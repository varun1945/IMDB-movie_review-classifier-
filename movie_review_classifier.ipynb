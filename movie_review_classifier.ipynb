{
 "cells": [
  {
   "cell_type": "markdown",
   "metadata": {
    "colab_type": "text",
    "id": "KJl_dzuNMgIg"
   },
   "source": [
    "# **IMDB Review Classifier**\n",
    "\n",
    "![alt text](https://upload.wikimedia.org/wikipedia/commons/thumb/6/69/IMDB_Logo_2016.svg/320px-IMDB_Logo_2016.svg.png)\n"
   ]
  },
  {
   "cell_type": "markdown",
   "metadata": {
    "colab_type": "text",
    "id": "F72Whtt8MgId"
   },
   "source": [
    "IMDb (Internet Movie Database) is an online database of information related to films, television programs, home videos and video games, and internet streams, including cast, production crew and personnel biographies, plot summaries, trivia, and fan reviews and ratings.\n"
   ]
  },
  {
   "cell_type": "markdown",
   "metadata": {
    "colab_type": "text",
    "id": "dEMCHb52OKSI"
   },
   "source": [
    "# Introduction:\n",
    "Opinion mining (sometimes known as sentiment analysis or emotion AI) refers to\n",
    "the use of natural language processing, text analysis, computational linguistics,\n",
    "and biometrics to systematically identify, extract, quantify, and study affective\n",
    "states and subjective information.\n",
    "\n",
    "We can use classifiers on textual data to classify the text into its signified\n",
    "emotion. This can be used in various ways to predict the sentiments of any text\n",
    "automatically after it is trained in a corpus of sentences.\n"
   ]
  },
  {
   "cell_type": "markdown",
   "metadata": {
    "colab_type": "text",
    "id": "QGsRnnYTOtuT"
   },
   "source": [
    "# Understanding the Problem\n",
    "Aim to classify the review into postive or negative sentiment from given dataset using word embeddings.\n",
    "- 1 Positive Sentiment\n",
    "- 0 Negative Sentiment\n"
   ]
  },
  {
   "cell_type": "markdown",
   "metadata": {
    "colab_type": "text",
    "id": "rGd2jsGgPfHG"
   },
   "source": [
    "# Dataset\n",
    "The dataset is in form of a txt file and can be downloaded from:\n",
    "\n",
    "https://drive.google.com/file/d/1zXOovxa6RSqmIOaFu9RNlluVlmyBfJ0M/view?usp=sharing\n",
    "\n"
   ]
  },
  {
   "cell_type": "markdown",
   "metadata": {
    "colab_type": "text",
    "id": "Ye0Y7OkZPxAj"
   },
   "source": [
    "# What is Sentiment Analysis ? \n",
    " Let's Understand first. !\n",
    " \n",
    " Sentiment Analysis is the most common text classification tool that analyses an incoming message and tells whether the underlying sentiment is positive, negative our neutral.We will use the help of Word Embeddings to transform the Words into numbers and then we'll make predictions upon it.\n",
    " \n",
    " Its Interesting . Let try this. !\n",
    "\n",
    " "
   ]
  },
  {
   "cell_type": "markdown",
   "metadata": {
    "colab_type": "text",
    "id": "BPI1kCrVRUOI"
   },
   "source": [
    "### Importing Library"
   ]
  },
  {
   "cell_type": "code",
   "execution_count": 2,
   "metadata": {
    "colab": {},
    "colab_type": "code",
    "id": "eHXqtXmtQ_SW"
   },
   "outputs": [],
   "source": [
    "import pandas as pd\n",
    "import numpy as np\n",
    "import matplotlib.pyplot as plt\n",
    "import seaborn as sns"
   ]
  },
  {
   "cell_type": "markdown",
   "metadata": {
    "colab_type": "text",
    "id": "xAE1wrVbRccb"
   },
   "source": [
    "### Importing dataset"
   ]
  },
  {
   "cell_type": "code",
   "execution_count": 4,
   "metadata": {
    "colab": {
     "base_uri": "https://localhost:8080/",
     "height": 71
    },
    "colab_type": "code",
    "id": "-2xclwynRfU2",
    "outputId": "9481e908-a3d2-43da-ae68-d5d2f453b0af"
   },
   "outputs": [
    {
     "name": "stderr",
     "output_type": "stream",
     "text": [
      "C:\\Users\\dell\\Anaconda3\\lib\\site-packages\\ipykernel_launcher.py:1: ParserWarning: Falling back to the 'python' engine because the 'c' engine does not support regex separators (separators > 1 char and different from '\\s+' are interpreted as regex); you can avoid this warning by specifying engine='python'.\n",
      "  \"\"\"Entry point for launching an IPython kernel.\n"
     ]
    }
   ],
   "source": [
    "data=pd.read_csv('imdb_labelled.txt', delimiter='\\t+',names=[\"review\",\"t_sentiment\"])"
   ]
  },
  {
   "cell_type": "code",
   "execution_count": 5,
   "metadata": {
    "colab": {
     "base_uri": "https://localhost:8080/",
     "height": 359
    },
    "colab_type": "code",
    "id": "j37kARHuRfTn",
    "outputId": "f8690a12-7389-432c-e5fa-61b875324bc5"
   },
   "outputs": [
    {
     "data": {
      "text/html": [
       "<div>\n",
       "<style scoped>\n",
       "    .dataframe tbody tr th:only-of-type {\n",
       "        vertical-align: middle;\n",
       "    }\n",
       "\n",
       "    .dataframe tbody tr th {\n",
       "        vertical-align: top;\n",
       "    }\n",
       "\n",
       "    .dataframe thead th {\n",
       "        text-align: right;\n",
       "    }\n",
       "</style>\n",
       "<table border=\"1\" class=\"dataframe\">\n",
       "  <thead>\n",
       "    <tr style=\"text-align: right;\">\n",
       "      <th></th>\n",
       "      <th>review</th>\n",
       "      <th>t_sentiment</th>\n",
       "    </tr>\n",
       "  </thead>\n",
       "  <tbody>\n",
       "    <tr>\n",
       "      <th>0</th>\n",
       "      <td>A very, very, very slow-moving, aimless movie ...</td>\n",
       "      <td>0</td>\n",
       "    </tr>\n",
       "    <tr>\n",
       "      <th>1</th>\n",
       "      <td>Not sure who was more lost - the flat characte...</td>\n",
       "      <td>0</td>\n",
       "    </tr>\n",
       "    <tr>\n",
       "      <th>2</th>\n",
       "      <td>Attempting artiness with black &amp; white and cle...</td>\n",
       "      <td>0</td>\n",
       "    </tr>\n",
       "    <tr>\n",
       "      <th>3</th>\n",
       "      <td>Very little music or anything to speak of.</td>\n",
       "      <td>0</td>\n",
       "    </tr>\n",
       "    <tr>\n",
       "      <th>4</th>\n",
       "      <td>The best scene in the movie was when Gerardo i...</td>\n",
       "      <td>1</td>\n",
       "    </tr>\n",
       "    <tr>\n",
       "      <th>5</th>\n",
       "      <td>The rest of the movie lacks art, charm, meanin...</td>\n",
       "      <td>0</td>\n",
       "    </tr>\n",
       "    <tr>\n",
       "      <th>6</th>\n",
       "      <td>Wasted two hours.</td>\n",
       "      <td>0</td>\n",
       "    </tr>\n",
       "    <tr>\n",
       "      <th>7</th>\n",
       "      <td>Saw the movie today and thought it was a good ...</td>\n",
       "      <td>1</td>\n",
       "    </tr>\n",
       "    <tr>\n",
       "      <th>8</th>\n",
       "      <td>A bit predictable.</td>\n",
       "      <td>0</td>\n",
       "    </tr>\n",
       "    <tr>\n",
       "      <th>9</th>\n",
       "      <td>Loved the casting of Jimmy Buffet as the scien...</td>\n",
       "      <td>1</td>\n",
       "    </tr>\n",
       "    <tr>\n",
       "      <th>10</th>\n",
       "      <td>And those baby owls were adorable.</td>\n",
       "      <td>1</td>\n",
       "    </tr>\n",
       "    <tr>\n",
       "      <th>11</th>\n",
       "      <td>The movie showed a lot of Florida at it's best...</td>\n",
       "      <td>1</td>\n",
       "    </tr>\n",
       "    <tr>\n",
       "      <th>12</th>\n",
       "      <td>The Songs Were The Best And The Muppets Were S...</td>\n",
       "      <td>1</td>\n",
       "    </tr>\n",
       "    <tr>\n",
       "      <th>13</th>\n",
       "      <td>It Was So Cool.</td>\n",
       "      <td>1</td>\n",
       "    </tr>\n",
       "    <tr>\n",
       "      <th>14</th>\n",
       "      <td>This is a very \"right on case\" movie that deli...</td>\n",
       "      <td>1</td>\n",
       "    </tr>\n",
       "    <tr>\n",
       "      <th>15</th>\n",
       "      <td>It had some average acting from the main perso...</td>\n",
       "      <td>0</td>\n",
       "    </tr>\n",
       "    <tr>\n",
       "      <th>16</th>\n",
       "      <td>This review is long overdue, since I consider ...</td>\n",
       "      <td>1</td>\n",
       "    </tr>\n",
       "    <tr>\n",
       "      <th>17</th>\n",
       "      <td>I'll put this gem up against any movie in term...</td>\n",
       "      <td>1</td>\n",
       "    </tr>\n",
       "    <tr>\n",
       "      <th>18</th>\n",
       "      <td>It's practically perfect in all of them Â– a t...</td>\n",
       "      <td>1</td>\n",
       "    </tr>\n",
       "    <tr>\n",
       "      <th>19</th>\n",
       "      <td>\" The structure of this film is easily the mos...</td>\n",
       "      <td>1</td>\n",
       "    </tr>\n",
       "    <tr>\n",
       "      <th>20</th>\n",
       "      <td>I can think of no other film where something v...</td>\n",
       "      <td>1</td>\n",
       "    </tr>\n",
       "    <tr>\n",
       "      <th>21</th>\n",
       "      <td>In other words, the content level of this film...</td>\n",
       "      <td>1</td>\n",
       "    </tr>\n",
       "    <tr>\n",
       "      <th>22</th>\n",
       "      <td>How can anyone in their right mind ask for any...</td>\n",
       "      <td>1</td>\n",
       "    </tr>\n",
       "    <tr>\n",
       "      <th>23</th>\n",
       "      <td>It's quite simply the highest, most superlativ...</td>\n",
       "      <td>1</td>\n",
       "    </tr>\n",
       "    <tr>\n",
       "      <th>24</th>\n",
       "      <td>Yes, this film does require a rather significa...</td>\n",
       "      <td>1</td>\n",
       "    </tr>\n",
       "    <tr>\n",
       "      <th>25</th>\n",
       "      <td>This short film certainly pulls no punches.</td>\n",
       "      <td>0</td>\n",
       "    </tr>\n",
       "    <tr>\n",
       "      <th>26</th>\n",
       "      <td>Graphics is far from the best part of the game.</td>\n",
       "      <td>0</td>\n",
       "    </tr>\n",
       "    <tr>\n",
       "      <th>27</th>\n",
       "      <td>This is the number one best TH game in the ser...</td>\n",
       "      <td>1</td>\n",
       "    </tr>\n",
       "    <tr>\n",
       "      <th>28</th>\n",
       "      <td>It deserves strong love.</td>\n",
       "      <td>1</td>\n",
       "    </tr>\n",
       "    <tr>\n",
       "      <th>29</th>\n",
       "      <td>It is an insane game.</td>\n",
       "      <td>1</td>\n",
       "    </tr>\n",
       "    <tr>\n",
       "      <th>...</th>\n",
       "      <td>...</td>\n",
       "      <td>...</td>\n",
       "    </tr>\n",
       "    <tr>\n",
       "      <th>970</th>\n",
       "      <td>Enough can not be said of the remarkable anima...</td>\n",
       "      <td>1</td>\n",
       "    </tr>\n",
       "    <tr>\n",
       "      <th>971</th>\n",
       "      <td>The art style has the appearance of crayon/pen...</td>\n",
       "      <td>1</td>\n",
       "    </tr>\n",
       "    <tr>\n",
       "      <th>972</th>\n",
       "      <td>If you act in such a film, you should be glad ...</td>\n",
       "      <td>0</td>\n",
       "    </tr>\n",
       "    <tr>\n",
       "      <th>973</th>\n",
       "      <td>This one wants to surf on the small wave of sp...</td>\n",
       "      <td>0</td>\n",
       "    </tr>\n",
       "    <tr>\n",
       "      <th>974</th>\n",
       "      <td>If you haven't choked in your own vomit by the...</td>\n",
       "      <td>0</td>\n",
       "    </tr>\n",
       "    <tr>\n",
       "      <th>975</th>\n",
       "      <td>Still, it makes up for all of this with a supe...</td>\n",
       "      <td>1</td>\n",
       "    </tr>\n",
       "    <tr>\n",
       "      <th>976</th>\n",
       "      <td>Just consider the excellent story, solid actin...</td>\n",
       "      <td>1</td>\n",
       "    </tr>\n",
       "    <tr>\n",
       "      <th>977</th>\n",
       "      <td>Instead, we got a bore fest about a whiny, spo...</td>\n",
       "      <td>0</td>\n",
       "    </tr>\n",
       "    <tr>\n",
       "      <th>978</th>\n",
       "      <td>Then I watched it again two Sundays ago (March...</td>\n",
       "      <td>1</td>\n",
       "    </tr>\n",
       "    <tr>\n",
       "      <th>979</th>\n",
       "      <td>It is a very well acted and done TV Movie.</td>\n",
       "      <td>1</td>\n",
       "    </tr>\n",
       "    <tr>\n",
       "      <th>980</th>\n",
       "      <td>Judith Light is one of my favorite actresses a...</td>\n",
       "      <td>1</td>\n",
       "    </tr>\n",
       "    <tr>\n",
       "      <th>981</th>\n",
       "      <td>I keep watching it over and over.</td>\n",
       "      <td>1</td>\n",
       "    </tr>\n",
       "    <tr>\n",
       "      <th>982</th>\n",
       "      <td>It's a sad movie, but very good.</td>\n",
       "      <td>1</td>\n",
       "    </tr>\n",
       "    <tr>\n",
       "      <th>983</th>\n",
       "      <td>If you have not seen this movie, I definitely ...</td>\n",
       "      <td>1</td>\n",
       "    </tr>\n",
       "    <tr>\n",
       "      <th>984</th>\n",
       "      <td>She is as lovely as usual, this cutie!</td>\n",
       "      <td>1</td>\n",
       "    </tr>\n",
       "    <tr>\n",
       "      <th>985</th>\n",
       "      <td>Still it's quite interesting and entertaining ...</td>\n",
       "      <td>1</td>\n",
       "    </tr>\n",
       "    <tr>\n",
       "      <th>986</th>\n",
       "      <td>;) Recommend with confidence!</td>\n",
       "      <td>1</td>\n",
       "    </tr>\n",
       "    <tr>\n",
       "      <th>987</th>\n",
       "      <td>This movie is well-balanced with comedy and dr...</td>\n",
       "      <td>1</td>\n",
       "    </tr>\n",
       "    <tr>\n",
       "      <th>988</th>\n",
       "      <td>It was a riot to see Hugo Weaving play a sex-o...</td>\n",
       "      <td>1</td>\n",
       "    </tr>\n",
       "    <tr>\n",
       "      <th>989</th>\n",
       "      <td>:) Anyway, the plot flowed smoothly and the ma...</td>\n",
       "      <td>1</td>\n",
       "    </tr>\n",
       "    <tr>\n",
       "      <th>990</th>\n",
       "      <td>The opening sequence of this gem is a classic,...</td>\n",
       "      <td>1</td>\n",
       "    </tr>\n",
       "    <tr>\n",
       "      <th>991</th>\n",
       "      <td>Fans of the genre will be in heaven.</td>\n",
       "      <td>1</td>\n",
       "    </tr>\n",
       "    <tr>\n",
       "      <th>992</th>\n",
       "      <td>Lange had become a great actress.</td>\n",
       "      <td>1</td>\n",
       "    </tr>\n",
       "    <tr>\n",
       "      <th>993</th>\n",
       "      <td>It looked like a wonderful story.</td>\n",
       "      <td>1</td>\n",
       "    </tr>\n",
       "    <tr>\n",
       "      <th>994</th>\n",
       "      <td>I never walked out of a movie faster.</td>\n",
       "      <td>0</td>\n",
       "    </tr>\n",
       "    <tr>\n",
       "      <th>995</th>\n",
       "      <td>I just got bored watching Jessice Lange take h...</td>\n",
       "      <td>0</td>\n",
       "    </tr>\n",
       "    <tr>\n",
       "      <th>996</th>\n",
       "      <td>Unfortunately, any virtue in this film's produ...</td>\n",
       "      <td>0</td>\n",
       "    </tr>\n",
       "    <tr>\n",
       "      <th>997</th>\n",
       "      <td>In a word, it is embarrassing.</td>\n",
       "      <td>0</td>\n",
       "    </tr>\n",
       "    <tr>\n",
       "      <th>998</th>\n",
       "      <td>Exceptionally bad!</td>\n",
       "      <td>0</td>\n",
       "    </tr>\n",
       "    <tr>\n",
       "      <th>999</th>\n",
       "      <td>All in all its an insult to one's intelligence...</td>\n",
       "      <td>0</td>\n",
       "    </tr>\n",
       "  </tbody>\n",
       "</table>\n",
       "<p>1000 rows × 2 columns</p>\n",
       "</div>"
      ],
      "text/plain": [
       "                                                review  t_sentiment\n",
       "0    A very, very, very slow-moving, aimless movie ...            0\n",
       "1    Not sure who was more lost - the flat characte...            0\n",
       "2    Attempting artiness with black & white and cle...            0\n",
       "3         Very little music or anything to speak of.              0\n",
       "4    The best scene in the movie was when Gerardo i...            1\n",
       "5    The rest of the movie lacks art, charm, meanin...            0\n",
       "6                                  Wasted two hours.              0\n",
       "7    Saw the movie today and thought it was a good ...            1\n",
       "8                                 A bit predictable.              0\n",
       "9    Loved the casting of Jimmy Buffet as the scien...            1\n",
       "10                And those baby owls were adorable.              1\n",
       "11   The movie showed a lot of Florida at it's best...            1\n",
       "12   The Songs Were The Best And The Muppets Were S...            1\n",
       "13                                   It Was So Cool.              1\n",
       "14   This is a very \"right on case\" movie that deli...            1\n",
       "15   It had some average acting from the main perso...            0\n",
       "16   This review is long overdue, since I consider ...            1\n",
       "17   I'll put this gem up against any movie in term...            1\n",
       "18   It's practically perfect in all of them Â– a t...            1\n",
       "19   \" The structure of this film is easily the mos...            1\n",
       "20   I can think of no other film where something v...            1\n",
       "21   In other words, the content level of this film...            1\n",
       "22   How can anyone in their right mind ask for any...            1\n",
       "23   It's quite simply the highest, most superlativ...            1\n",
       "24   Yes, this film does require a rather significa...            1\n",
       "25       This short film certainly pulls no punches.              0\n",
       "26   Graphics is far from the best part of the game.              0\n",
       "27   This is the number one best TH game in the ser...            1\n",
       "28                          It deserves strong love.              1\n",
       "29                             It is an insane game.              1\n",
       "..                                                 ...          ...\n",
       "970  Enough can not be said of the remarkable anima...            1\n",
       "971  The art style has the appearance of crayon/pen...            1\n",
       "972  If you act in such a film, you should be glad ...            0\n",
       "973  This one wants to surf on the small wave of sp...            0\n",
       "974  If you haven't choked in your own vomit by the...            0\n",
       "975  Still, it makes up for all of this with a supe...            1\n",
       "976  Just consider the excellent story, solid actin...            1\n",
       "977  Instead, we got a bore fest about a whiny, spo...            0\n",
       "978  Then I watched it again two Sundays ago (March...            1\n",
       "979       It is a very well acted and done TV Movie.              1\n",
       "980  Judith Light is one of my favorite actresses a...            1\n",
       "981                I keep watching it over and over.              1\n",
       "982                 It's a sad movie, but very good.              1\n",
       "983  If you have not seen this movie, I definitely ...            1\n",
       "984           She is as lovely as usual, this cutie!              1\n",
       "985  Still it's quite interesting and entertaining ...            1\n",
       "986                    ;) Recommend with confidence!              1\n",
       "987  This movie is well-balanced with comedy and dr...            1\n",
       "988  It was a riot to see Hugo Weaving play a sex-o...            1\n",
       "989  :) Anyway, the plot flowed smoothly and the ma...            1\n",
       "990  The opening sequence of this gem is a classic,...            1\n",
       "991             Fans of the genre will be in heaven.              1\n",
       "992                Lange had become a great actress.              1\n",
       "993                It looked like a wonderful story.              1\n",
       "994            I never walked out of a movie faster.              0\n",
       "995  I just got bored watching Jessice Lange take h...            0\n",
       "996  Unfortunately, any virtue in this film's produ...            0\n",
       "997                   In a word, it is embarrassing.              0\n",
       "998                               Exceptionally bad!              0\n",
       "999  All in all its an insult to one's intelligence...            0\n",
       "\n",
       "[1000 rows x 2 columns]"
      ]
     },
     "execution_count": 5,
     "metadata": {},
     "output_type": "execute_result"
    }
   ],
   "source": [
    "data"
   ]
  },
  {
   "cell_type": "code",
   "execution_count": 6,
   "metadata": {
    "colab": {
     "base_uri": "https://localhost:8080/",
     "height": 390
    },
    "colab_type": "code",
    "id": "OmiHDIZ5W7r1",
    "outputId": "1ac67b72-a8eb-4fea-9be4-3af5d63cd89e"
   },
   "outputs": [
    {
     "data": {
      "text/html": [
       "<div>\n",
       "<style scoped>\n",
       "    .dataframe tbody tr th:only-of-type {\n",
       "        vertical-align: middle;\n",
       "    }\n",
       "\n",
       "    .dataframe tbody tr th {\n",
       "        vertical-align: top;\n",
       "    }\n",
       "\n",
       "    .dataframe thead th {\n",
       "        text-align: right;\n",
       "    }\n",
       "</style>\n",
       "<table border=\"1\" class=\"dataframe\">\n",
       "  <thead>\n",
       "    <tr style=\"text-align: right;\">\n",
       "      <th></th>\n",
       "      <th>review</th>\n",
       "      <th>t_sentiment</th>\n",
       "    </tr>\n",
       "  </thead>\n",
       "  <tbody>\n",
       "    <tr>\n",
       "      <th>count</th>\n",
       "      <td>1000</td>\n",
       "      <td>1000.00000</td>\n",
       "    </tr>\n",
       "    <tr>\n",
       "      <th>unique</th>\n",
       "      <td>997</td>\n",
       "      <td>NaN</td>\n",
       "    </tr>\n",
       "    <tr>\n",
       "      <th>top</th>\n",
       "      <td>Definitely worth checking out.</td>\n",
       "      <td>NaN</td>\n",
       "    </tr>\n",
       "    <tr>\n",
       "      <th>freq</th>\n",
       "      <td>2</td>\n",
       "      <td>NaN</td>\n",
       "    </tr>\n",
       "    <tr>\n",
       "      <th>mean</th>\n",
       "      <td>NaN</td>\n",
       "      <td>0.50000</td>\n",
       "    </tr>\n",
       "    <tr>\n",
       "      <th>std</th>\n",
       "      <td>NaN</td>\n",
       "      <td>0.50025</td>\n",
       "    </tr>\n",
       "    <tr>\n",
       "      <th>min</th>\n",
       "      <td>NaN</td>\n",
       "      <td>0.00000</td>\n",
       "    </tr>\n",
       "    <tr>\n",
       "      <th>25%</th>\n",
       "      <td>NaN</td>\n",
       "      <td>0.00000</td>\n",
       "    </tr>\n",
       "    <tr>\n",
       "      <th>50%</th>\n",
       "      <td>NaN</td>\n",
       "      <td>0.50000</td>\n",
       "    </tr>\n",
       "    <tr>\n",
       "      <th>75%</th>\n",
       "      <td>NaN</td>\n",
       "      <td>1.00000</td>\n",
       "    </tr>\n",
       "    <tr>\n",
       "      <th>max</th>\n",
       "      <td>NaN</td>\n",
       "      <td>1.00000</td>\n",
       "    </tr>\n",
       "  </tbody>\n",
       "</table>\n",
       "</div>"
      ],
      "text/plain": [
       "                                  review  t_sentiment\n",
       "count                               1000   1000.00000\n",
       "unique                               997          NaN\n",
       "top     Definitely worth checking out.            NaN\n",
       "freq                                   2          NaN\n",
       "mean                                 NaN      0.50000\n",
       "std                                  NaN      0.50025\n",
       "min                                  NaN      0.00000\n",
       "25%                                  NaN      0.00000\n",
       "50%                                  NaN      0.50000\n",
       "75%                                  NaN      1.00000\n",
       "max                                  NaN      1.00000"
      ]
     },
     "execution_count": 6,
     "metadata": {},
     "output_type": "execute_result"
    }
   ],
   "source": [
    "data.describe(include='all')"
   ]
  },
  {
   "cell_type": "code",
   "execution_count": 7,
   "metadata": {
    "colab": {
     "base_uri": "https://localhost:8080/",
     "height": 51
    },
    "colab_type": "code",
    "id": "u8kPVehdYmST",
    "outputId": "c90e1fb9-82ce-4253-eeff-098d5682a830"
   },
   "outputs": [
    {
     "name": "stdout",
     "output_type": "stream",
     "text": [
      "(1000, 2)\n",
      "Index(['review', 't_sentiment'], dtype='object')\n"
     ]
    }
   ],
   "source": [
    "print(data.shape)\n",
    "print(data.columns)\n"
   ]
  },
  {
   "cell_type": "markdown",
   "metadata": {
    "colab_type": "text",
    "id": "2RoDwNV2ZaZk"
   },
   "source": [
    "Tota1 data =1000\n",
    "Total columns=2"
   ]
  },
  {
   "cell_type": "code",
   "execution_count": 8,
   "metadata": {
    "colab": {
     "base_uri": "https://localhost:8080/",
     "height": 68
    },
    "colab_type": "code",
    "id": "JLxm40ECZwsc",
    "outputId": "21d17a02-5767-425e-c421-135b72d2cabb"
   },
   "outputs": [
    {
     "name": "stdout",
     "output_type": "stream",
     "text": [
      "1    500\n",
      "0    500\n",
      "Name: t_sentiment, dtype: int64\n"
     ]
    }
   ],
   "source": [
    "print(data['t_sentiment'].value_counts())\n"
   ]
  },
  {
   "cell_type": "markdown",
   "metadata": {
    "colab_type": "text",
    "id": "clXOXbjhbiVl"
   },
   "source": [
    "Total Postive Sentiment =500\n",
    "\n",
    "Total Neagtive Sentiment=500\n"
   ]
  },
  {
   "cell_type": "markdown",
   "metadata": {
    "colab_type": "text",
    "id": "hwXmWyh-cQ5H"
   },
   "source": [
    "# EDA\n",
    "In statistics, exploratory data analysis (EDA) is an approach to analyzing data sets to summarize their main characteristics, often with visual methods. A statistical model can be used or not, but primarily EDA is for seeing what the data can tell us beyond the formal modeling or hypothesis testing task.\n"
   ]
  },
  {
   "cell_type": "code",
   "execution_count": 9,
   "metadata": {
    "colab": {
     "base_uri": "https://localhost:8080/",
     "height": 301
    },
    "colab_type": "code",
    "id": "iI51_LFGeMZR",
    "outputId": "5d08289a-2ea5-45ba-98a4-76cac8055f32"
   },
   "outputs": [
    {
     "data": {
      "text/plain": [
       "<matplotlib.axes._subplots.AxesSubplot at 0x22cbaaf9dd8>"
      ]
     },
     "execution_count": 9,
     "metadata": {},
     "output_type": "execute_result"
    },
    {
     "data": {
      "image/png": "[encoded data removed]",
      "text/plain": [
       "<Figure size 432x288 with 1 Axes>"
      ]
     },
     "metadata": {
      "needs_background": "light"
     },
     "output_type": "display_data"
    }
   ],
   "source": [
    "sns.countplot(x='t_sentiment',data=data)"
   ]
  },
  {
   "cell_type": "markdown",
   "metadata": {
    "colab_type": "text",
    "id": "CgqiN3YOef7i"
   },
   "source": [
    "Blue bar is negative sentiment (0)\n",
    "\n",
    "Orange bar is positive sentiment (1)"
   ]
  },
  {
   "cell_type": "markdown",
   "metadata": {
    "colab_type": "text",
    "id": "S-dHcxVQfrRd"
   },
   "source": [
    "# Word Cloud\n",
    "A word cloud  is a data visualization technique which highlights the important textual data points from a big text corpus. The approach used creates a meaningful visualization of text which could really help to understand high prominence of words that appear more frequently. This type of visualization can assist in exploratory text analysis by identifying important textual data points (which may be potential features) and contextual themes appearing in a set of documents.\n",
    "\n",
    "In a word cloud visual, the more common words in the documents appear larger and bolder. Word Cloud generators break down the text into word tokens and count how frequently they appear in the entire corpus. The font point size is assigned to each word based on the frequency it appears in the text.\n"
   ]
  },
  {
   "cell_type": "markdown",
   "metadata": {
    "colab_type": "text",
    "id": "SNLdVSzigEbI"
   },
   "source": [
    "# Stopwords\n",
    "These are the words which donot provide useful information . For Example \n",
    "#### 'a' , 'an', 'the' etc."
   ]
  },
  {
   "cell_type": "markdown",
   "metadata": {
    "colab_type": "text",
    "id": "KcTsxQUvh0tc"
   },
   "source": [
    "First, Creating word cloud for  **Negative Sentiment**"
   ]
  },
  {
   "cell_type": "code",
   "execution_count": 10,
   "metadata": {
    "colab": {},
    "colab_type": "code",
    "id": "rCger6i7j8wX"
   },
   "outputs": [],
   "source": [
    "from wordcloud import WordCloud,STOPWORDS"
   ]
  },
  {
   "cell_type": "code",
   "execution_count": 11,
   "metadata": {
    "colab": {},
    "colab_type": "code",
    "id": "So063afGjobX"
   },
   "outputs": [],
   "source": [
    "df=data[data['t_sentiment']==0]\n",
    "words = ' '.join(df['review'])\n",
    "cleaned_word = \" \".join([word for word in words.split()\n",
    "                            if 'http' not in word\n",
    "                                and not word.startswith('@')\n",
    "                                and word != 'RT'\n",
    "                            ])\n"
   ]
  },
  {
   "cell_type": "code",
   "execution_count": 12,
   "metadata": {
    "colab": {},
    "colab_type": "code",
    "id": "IR7XFgmxjmXq"
   },
   "outputs": [],
   "source": [
    "wordcloud = WordCloud(stopwords=STOPWORDS,\n",
    "                      background_color='white',\n",
    "                      height=1080,width=1000\n",
    "                     ).generate(cleaned_word)"
   ]
  },
  {
   "cell_type": "code",
   "execution_count": 14,
   "metadata": {
    "colab": {
     "base_uri": "https://localhost:8080/",
     "height": 704
    },
    "colab_type": "code",
    "id": "R195oPGvkRmP",
    "outputId": "5f9b324d-f87e-47bc-ff83-10493e30cf68"
   },
   "outputs": [
    {
     "data": {
      "image/png": "[encoded data removed]",
      "text/plain": [
       "<Figure size 1296x864 with 1 Axes>"
      ]
     },
     "metadata": {
      "needs_background": "light"
     },
     "output_type": "display_data"
    }
   ],
   "source": [
    "plt.figure(1,figsize=(18,12))\n",
    "plt.imshow(wordcloud)\n",
    "plt.axis('off')\n",
    "plt.show()\n"
   ]
  },
  {
   "cell_type": "markdown",
   "metadata": {
    "colab_type": "text",
    "id": "i-_wJKsYlRRk"
   },
   "source": [
    "**For Positive Sentiment**"
   ]
  },
  {
   "cell_type": "code",
   "execution_count": 15,
   "metadata": {
    "colab": {},
    "colab_type": "code",
    "id": "LPgG1ocylQpX"
   },
   "outputs": [],
   "source": [
    "df=data[data['t_sentiment']==1]\n",
    "wordsp = ' '.join(df['review'])\n",
    "cleaned_word1 = \" \".join([wordp for wordp in wordsp.split()\n",
    "                            if 'http' not in wordp\n",
    "                                and not wordp.startswith('@')\n",
    "                                and wordp != 'RT'\n",
    "                            ])\n"
   ]
  },
  {
   "cell_type": "code",
   "execution_count": 16,
   "metadata": {
    "colab": {},
    "colab_type": "code",
    "id": "UKXDGocDlkIG"
   },
   "outputs": [],
   "source": [
    "wordcloudp = WordCloud(stopwords=STOPWORDS,\n",
    "                      background_color='black',\n",
    "                      width=1080,\n",
    "                      height=1000\n",
    "                     ).generate(cleaned_word1)"
   ]
  },
  {
   "cell_type": "code",
   "execution_count": 17,
   "metadata": {
    "colab": {
     "base_uri": "https://localhost:8080/",
     "height": 704
    },
    "colab_type": "code",
    "id": "NwGiu8XxlyJt",
    "outputId": "fe6beb16-5789-45f6-e9c1-c47b104371b4"
   },
   "outputs": [
    {
     "data": {
      "image/png": "[encoded data removed]",
      "text/plain": [
       "<Figure size 1296x864 with 1 Axes>"
      ]
     },
     "metadata": {
      "needs_background": "light"
     },
     "output_type": "display_data"
    }
   ],
   "source": [
    "plt.figure(1,figsize=(18,12))\n",
    "plt.imshow(wordcloudp)\n",
    "plt.axis('off')\n",
    "plt.show()\n"
   ]
  },
  {
   "cell_type": "markdown",
   "metadata": {
    "colab_type": "text",
    "id": "EwSl-N7W_RtL"
   },
   "source": [
    "# Data Preprocessing\n"
   ]
  },
  {
   "cell_type": "code",
   "execution_count": 18,
   "metadata": {
    "colab": {},
    "colab_type": "code",
    "id": "cKmVbPr3_0Ry"
   },
   "outputs": [],
   "source": [
    "import re\n",
    "import nltk\n",
    "from nltk.tokenize import word_tokenize\n",
    "from nltk.corpus import stopwords\n",
    "from nltk.stem.porter import PorterStemmer"
   ]
  },
  {
   "cell_type": "code",
   "execution_count": 19,
   "metadata": {
    "colab": {},
    "colab_type": "code",
    "id": "2VtT6w04B1ng"
   },
   "outputs": [],
   "source": [
    "stemmer=PorterStemmer()"
   ]
  },
  {
   "cell_type": "code",
   "execution_count": 20,
   "metadata": {
    "colab": {},
    "colab_type": "code",
    "id": "FnBSLP3i_9J1"
   },
   "outputs": [],
   "source": [
    "def preprocess(raw_tweet,):\n",
    "    letters_only = re.sub(\"[^a-zA-Z]\", \" \",raw_tweet)\n",
    "    \n",
    "    # change sentence to lower case\n",
    "    letters_only = letters_only.lower()\n",
    "\n",
    "    # tokenize into words\n",
    "    words = letters_only.split()\n",
    "    \n",
    "    # remove stop words                \n",
    "    words = [w for w in words if not w in stopwords.words(\"english\")]\n",
    "    \n",
    "    #Stemming\n",
    "    words = [stemmer.stem(word) for word in words]\n",
    "   \n",
    "    return(\" \".join(words))\n",
    "   "
   ]
  },
  {
   "cell_type": "code",
   "execution_count": 21,
   "metadata": {
    "colab": {
     "base_uri": "https://localhost:8080/",
     "height": 204
    },
    "colab_type": "code",
    "id": "sjdrJqDDARhV",
    "outputId": "765c1df5-7ad1-4f24-a9a9-16e43cd43149"
   },
   "outputs": [
    {
     "data": {
      "text/html": [
       "<div>\n",
       "<style scoped>\n",
       "    .dataframe tbody tr th:only-of-type {\n",
       "        vertical-align: middle;\n",
       "    }\n",
       "\n",
       "    .dataframe tbody tr th {\n",
       "        vertical-align: top;\n",
       "    }\n",
       "\n",
       "    .dataframe thead th {\n",
       "        text-align: right;\n",
       "    }\n",
       "</style>\n",
       "<table border=\"1\" class=\"dataframe\">\n",
       "  <thead>\n",
       "    <tr style=\"text-align: right;\">\n",
       "      <th></th>\n",
       "      <th>review</th>\n",
       "      <th>t_sentiment</th>\n",
       "      <th>c_review</th>\n",
       "    </tr>\n",
       "  </thead>\n",
       "  <tbody>\n",
       "    <tr>\n",
       "      <th>0</th>\n",
       "      <td>A very, very, very slow-moving, aimless movie ...</td>\n",
       "      <td>0</td>\n",
       "      <td>slow move aimless movi distress drift young man</td>\n",
       "    </tr>\n",
       "    <tr>\n",
       "      <th>1</th>\n",
       "      <td>Not sure who was more lost - the flat characte...</td>\n",
       "      <td>0</td>\n",
       "      <td>sure lost flat charact audienc nearli half walk</td>\n",
       "    </tr>\n",
       "    <tr>\n",
       "      <th>2</th>\n",
       "      <td>Attempting artiness with black &amp; white and cle...</td>\n",
       "      <td>0</td>\n",
       "      <td>attempt arti black white clever camera angl mo...</td>\n",
       "    </tr>\n",
       "    <tr>\n",
       "      <th>3</th>\n",
       "      <td>Very little music or anything to speak of.</td>\n",
       "      <td>0</td>\n",
       "      <td>littl music anyth speak</td>\n",
       "    </tr>\n",
       "    <tr>\n",
       "      <th>4</th>\n",
       "      <td>The best scene in the movie was when Gerardo i...</td>\n",
       "      <td>1</td>\n",
       "      <td>best scene movi gerardo tri find song keep run...</td>\n",
       "    </tr>\n",
       "    <tr>\n",
       "      <th>5</th>\n",
       "      <td>The rest of the movie lacks art, charm, meanin...</td>\n",
       "      <td>0</td>\n",
       "      <td>rest movi lack art charm mean empti work guess...</td>\n",
       "    </tr>\n",
       "    <tr>\n",
       "      <th>6</th>\n",
       "      <td>Wasted two hours.</td>\n",
       "      <td>0</td>\n",
       "      <td>wast two hour</td>\n",
       "    </tr>\n",
       "    <tr>\n",
       "      <th>7</th>\n",
       "      <td>Saw the movie today and thought it was a good ...</td>\n",
       "      <td>1</td>\n",
       "      <td>saw movi today thought good effort good messag...</td>\n",
       "    </tr>\n",
       "    <tr>\n",
       "      <th>8</th>\n",
       "      <td>A bit predictable.</td>\n",
       "      <td>0</td>\n",
       "      <td>bit predict</td>\n",
       "    </tr>\n",
       "    <tr>\n",
       "      <th>9</th>\n",
       "      <td>Loved the casting of Jimmy Buffet as the scien...</td>\n",
       "      <td>1</td>\n",
       "      <td>love cast jimmi buffet scienc teacher</td>\n",
       "    </tr>\n",
       "    <tr>\n",
       "      <th>10</th>\n",
       "      <td>And those baby owls were adorable.</td>\n",
       "      <td>1</td>\n",
       "      <td>babi owl ador</td>\n",
       "    </tr>\n",
       "    <tr>\n",
       "      <th>11</th>\n",
       "      <td>The movie showed a lot of Florida at it's best...</td>\n",
       "      <td>1</td>\n",
       "      <td>movi show lot florida best made look appeal</td>\n",
       "    </tr>\n",
       "    <tr>\n",
       "      <th>12</th>\n",
       "      <td>The Songs Were The Best And The Muppets Were S...</td>\n",
       "      <td>1</td>\n",
       "      <td>song best muppet hilari</td>\n",
       "    </tr>\n",
       "    <tr>\n",
       "      <th>13</th>\n",
       "      <td>It Was So Cool.</td>\n",
       "      <td>1</td>\n",
       "      <td>cool</td>\n",
       "    </tr>\n",
       "    <tr>\n",
       "      <th>14</th>\n",
       "      <td>This is a very \"right on case\" movie that deli...</td>\n",
       "      <td>1</td>\n",
       "      <td>right case movi deliv everyth almost right face</td>\n",
       "    </tr>\n",
       "    <tr>\n",
       "      <th>15</th>\n",
       "      <td>It had some average acting from the main perso...</td>\n",
       "      <td>0</td>\n",
       "      <td>averag act main person low budget clearli see</td>\n",
       "    </tr>\n",
       "    <tr>\n",
       "      <th>16</th>\n",
       "      <td>This review is long overdue, since I consider ...</td>\n",
       "      <td>1</td>\n",
       "      <td>review long overdu sinc consid tale two sister...</td>\n",
       "    </tr>\n",
       "    <tr>\n",
       "      <th>17</th>\n",
       "      <td>I'll put this gem up against any movie in term...</td>\n",
       "      <td>1</td>\n",
       "      <td>put gem movi term screenplay cinematographi ac...</td>\n",
       "    </tr>\n",
       "    <tr>\n",
       "      <th>18</th>\n",
       "      <td>It's practically perfect in all of them Â– a t...</td>\n",
       "      <td>1</td>\n",
       "      <td>practic perfect true masterpiec sea faux maste...</td>\n",
       "    </tr>\n",
       "    <tr>\n",
       "      <th>19</th>\n",
       "      <td>\" The structure of this film is easily the mos...</td>\n",
       "      <td>1</td>\n",
       "      <td>structur film easili tightli construct histori...</td>\n",
       "    </tr>\n",
       "    <tr>\n",
       "      <th>20</th>\n",
       "      <td>I can think of no other film where something v...</td>\n",
       "      <td>1</td>\n",
       "      <td>think film someth vital import occur everi minut</td>\n",
       "    </tr>\n",
       "    <tr>\n",
       "      <th>21</th>\n",
       "      <td>In other words, the content level of this film...</td>\n",
       "      <td>1</td>\n",
       "      <td>word content level film enough easili fill doz...</td>\n",
       "    </tr>\n",
       "    <tr>\n",
       "      <th>22</th>\n",
       "      <td>How can anyone in their right mind ask for any...</td>\n",
       "      <td>1</td>\n",
       "      <td>anyon right mind ask anyth movi</td>\n",
       "    </tr>\n",
       "    <tr>\n",
       "      <th>23</th>\n",
       "      <td>It's quite simply the highest, most superlativ...</td>\n",
       "      <td>1</td>\n",
       "      <td>quit simpli highest superl form cinema imagin</td>\n",
       "    </tr>\n",
       "    <tr>\n",
       "      <th>24</th>\n",
       "      <td>Yes, this film does require a rather significa...</td>\n",
       "      <td>1</td>\n",
       "      <td>ye film requir rather signific amount puzzl so...</td>\n",
       "    </tr>\n",
       "    <tr>\n",
       "      <th>25</th>\n",
       "      <td>This short film certainly pulls no punches.</td>\n",
       "      <td>0</td>\n",
       "      <td>short film certainli pull punch</td>\n",
       "    </tr>\n",
       "    <tr>\n",
       "      <th>26</th>\n",
       "      <td>Graphics is far from the best part of the game.</td>\n",
       "      <td>0</td>\n",
       "      <td>graphic far best part game</td>\n",
       "    </tr>\n",
       "    <tr>\n",
       "      <th>27</th>\n",
       "      <td>This is the number one best TH game in the ser...</td>\n",
       "      <td>1</td>\n",
       "      <td>number one best th game seri</td>\n",
       "    </tr>\n",
       "    <tr>\n",
       "      <th>28</th>\n",
       "      <td>It deserves strong love.</td>\n",
       "      <td>1</td>\n",
       "      <td>deserv strong love</td>\n",
       "    </tr>\n",
       "    <tr>\n",
       "      <th>29</th>\n",
       "      <td>It is an insane game.</td>\n",
       "      <td>1</td>\n",
       "      <td>insan game</td>\n",
       "    </tr>\n",
       "    <tr>\n",
       "      <th>...</th>\n",
       "      <td>...</td>\n",
       "      <td>...</td>\n",
       "      <td>...</td>\n",
       "    </tr>\n",
       "    <tr>\n",
       "      <th>970</th>\n",
       "      <td>Enough can not be said of the remarkable anima...</td>\n",
       "      <td>1</td>\n",
       "      <td>enough said remark anim film</td>\n",
       "    </tr>\n",
       "    <tr>\n",
       "      <th>971</th>\n",
       "      <td>The art style has the appearance of crayon/pen...</td>\n",
       "      <td>1</td>\n",
       "      <td>art style appear crayon pencil draw wonder col...</td>\n",
       "    </tr>\n",
       "    <tr>\n",
       "      <th>972</th>\n",
       "      <td>If you act in such a film, you should be glad ...</td>\n",
       "      <td>0</td>\n",
       "      <td>act film glad gonna drift away earth far possibl</td>\n",
       "    </tr>\n",
       "    <tr>\n",
       "      <th>973</th>\n",
       "      <td>This one wants to surf on the small wave of sp...</td>\n",
       "      <td>0</td>\n",
       "      <td>one want surf small wave space movi deep impac...</td>\n",
       "    </tr>\n",
       "    <tr>\n",
       "      <th>974</th>\n",
       "      <td>If you haven't choked in your own vomit by the...</td>\n",
       "      <td>0</td>\n",
       "      <td>choke vomit end cheap drama worthless dialogu ...</td>\n",
       "    </tr>\n",
       "    <tr>\n",
       "      <th>975</th>\n",
       "      <td>Still, it makes up for all of this with a supe...</td>\n",
       "      <td>1</td>\n",
       "      <td>still make super end depict great sea vessel t...</td>\n",
       "    </tr>\n",
       "    <tr>\n",
       "      <th>976</th>\n",
       "      <td>Just consider the excellent story, solid actin...</td>\n",
       "      <td>1</td>\n",
       "      <td>consid excel stori solid act look film ad bonus</td>\n",
       "    </tr>\n",
       "    <tr>\n",
       "      <th>977</th>\n",
       "      <td>Instead, we got a bore fest about a whiny, spo...</td>\n",
       "      <td>0</td>\n",
       "      <td>instead got bore fest whini spoil brat babysit</td>\n",
       "    </tr>\n",
       "    <tr>\n",
       "      <th>978</th>\n",
       "      <td>Then I watched it again two Sundays ago (March...</td>\n",
       "      <td>1</td>\n",
       "      <td>watch two sunday ago march th began realli enj...</td>\n",
       "    </tr>\n",
       "    <tr>\n",
       "      <th>979</th>\n",
       "      <td>It is a very well acted and done TV Movie.</td>\n",
       "      <td>1</td>\n",
       "      <td>well act done tv movi</td>\n",
       "    </tr>\n",
       "    <tr>\n",
       "      <th>980</th>\n",
       "      <td>Judith Light is one of my favorite actresses a...</td>\n",
       "      <td>1</td>\n",
       "      <td>judith light one favorit actress think superb ...</td>\n",
       "    </tr>\n",
       "    <tr>\n",
       "      <th>981</th>\n",
       "      <td>I keep watching it over and over.</td>\n",
       "      <td>1</td>\n",
       "      <td>keep watch</td>\n",
       "    </tr>\n",
       "    <tr>\n",
       "      <th>982</th>\n",
       "      <td>It's a sad movie, but very good.</td>\n",
       "      <td>1</td>\n",
       "      <td>sad movi good</td>\n",
       "    </tr>\n",
       "    <tr>\n",
       "      <th>983</th>\n",
       "      <td>If you have not seen this movie, I definitely ...</td>\n",
       "      <td>1</td>\n",
       "      <td>seen movi definit recommend</td>\n",
       "    </tr>\n",
       "    <tr>\n",
       "      <th>984</th>\n",
       "      <td>She is as lovely as usual, this cutie!</td>\n",
       "      <td>1</td>\n",
       "      <td>love usual cuti</td>\n",
       "    </tr>\n",
       "    <tr>\n",
       "      <th>985</th>\n",
       "      <td>Still it's quite interesting and entertaining ...</td>\n",
       "      <td>1</td>\n",
       "      <td>still quit interest entertain follow</td>\n",
       "    </tr>\n",
       "    <tr>\n",
       "      <th>986</th>\n",
       "      <td>;) Recommend with confidence!</td>\n",
       "      <td>1</td>\n",
       "      <td>recommend confid</td>\n",
       "    </tr>\n",
       "    <tr>\n",
       "      <th>987</th>\n",
       "      <td>This movie is well-balanced with comedy and dr...</td>\n",
       "      <td>1</td>\n",
       "      <td>movi well balanc comedi drama thoroughli enjoy</td>\n",
       "    </tr>\n",
       "    <tr>\n",
       "      <th>988</th>\n",
       "      <td>It was a riot to see Hugo Weaving play a sex-o...</td>\n",
       "      <td>1</td>\n",
       "      <td>riot see hugo weav play sex obsess gay real es...</td>\n",
       "    </tr>\n",
       "    <tr>\n",
       "      <th>989</th>\n",
       "      <td>:) Anyway, the plot flowed smoothly and the ma...</td>\n",
       "      <td>1</td>\n",
       "      <td>anyway plot flow smoothli male bond scene hoot</td>\n",
       "    </tr>\n",
       "    <tr>\n",
       "      <th>990</th>\n",
       "      <td>The opening sequence of this gem is a classic,...</td>\n",
       "      <td>1</td>\n",
       "      <td>open sequenc gem classic cat n mous game follo...</td>\n",
       "    </tr>\n",
       "    <tr>\n",
       "      <th>991</th>\n",
       "      <td>Fans of the genre will be in heaven.</td>\n",
       "      <td>1</td>\n",
       "      <td>fan genr heaven</td>\n",
       "    </tr>\n",
       "    <tr>\n",
       "      <th>992</th>\n",
       "      <td>Lange had become a great actress.</td>\n",
       "      <td>1</td>\n",
       "      <td>lang becom great actress</td>\n",
       "    </tr>\n",
       "    <tr>\n",
       "      <th>993</th>\n",
       "      <td>It looked like a wonderful story.</td>\n",
       "      <td>1</td>\n",
       "      <td>look like wonder stori</td>\n",
       "    </tr>\n",
       "    <tr>\n",
       "      <th>994</th>\n",
       "      <td>I never walked out of a movie faster.</td>\n",
       "      <td>0</td>\n",
       "      <td>never walk movi faster</td>\n",
       "    </tr>\n",
       "    <tr>\n",
       "      <th>995</th>\n",
       "      <td>I just got bored watching Jessice Lange take h...</td>\n",
       "      <td>0</td>\n",
       "      <td>got bore watch jessic lang take cloth</td>\n",
       "    </tr>\n",
       "    <tr>\n",
       "      <th>996</th>\n",
       "      <td>Unfortunately, any virtue in this film's produ...</td>\n",
       "      <td>0</td>\n",
       "      <td>unfortun virtu film product work lost regrett ...</td>\n",
       "    </tr>\n",
       "    <tr>\n",
       "      <th>997</th>\n",
       "      <td>In a word, it is embarrassing.</td>\n",
       "      <td>0</td>\n",
       "      <td>word embarrass</td>\n",
       "    </tr>\n",
       "    <tr>\n",
       "      <th>998</th>\n",
       "      <td>Exceptionally bad!</td>\n",
       "      <td>0</td>\n",
       "      <td>except bad</td>\n",
       "    </tr>\n",
       "    <tr>\n",
       "      <th>999</th>\n",
       "      <td>All in all its an insult to one's intelligence...</td>\n",
       "      <td>0</td>\n",
       "      <td>insult one intellig huge wast money</td>\n",
       "    </tr>\n",
       "  </tbody>\n",
       "</table>\n",
       "<p>1000 rows × 3 columns</p>\n",
       "</div>"
      ],
      "text/plain": [
       "                                                review  t_sentiment  \\\n",
       "0    A very, very, very slow-moving, aimless movie ...            0   \n",
       "1    Not sure who was more lost - the flat characte...            0   \n",
       "2    Attempting artiness with black & white and cle...            0   \n",
       "3         Very little music or anything to speak of.              0   \n",
       "4    The best scene in the movie was when Gerardo i...            1   \n",
       "5    The rest of the movie lacks art, charm, meanin...            0   \n",
       "6                                  Wasted two hours.              0   \n",
       "7    Saw the movie today and thought it was a good ...            1   \n",
       "8                                 A bit predictable.              0   \n",
       "9    Loved the casting of Jimmy Buffet as the scien...            1   \n",
       "10                And those baby owls were adorable.              1   \n",
       "11   The movie showed a lot of Florida at it's best...            1   \n",
       "12   The Songs Were The Best And The Muppets Were S...            1   \n",
       "13                                   It Was So Cool.              1   \n",
       "14   This is a very \"right on case\" movie that deli...            1   \n",
       "15   It had some average acting from the main perso...            0   \n",
       "16   This review is long overdue, since I consider ...            1   \n",
       "17   I'll put this gem up against any movie in term...            1   \n",
       "18   It's practically perfect in all of them Â– a t...            1   \n",
       "19   \" The structure of this film is easily the mos...            1   \n",
       "20   I can think of no other film where something v...            1   \n",
       "21   In other words, the content level of this film...            1   \n",
       "22   How can anyone in their right mind ask for any...            1   \n",
       "23   It's quite simply the highest, most superlativ...            1   \n",
       "24   Yes, this film does require a rather significa...            1   \n",
       "25       This short film certainly pulls no punches.              0   \n",
       "26   Graphics is far from the best part of the game.              0   \n",
       "27   This is the number one best TH game in the ser...            1   \n",
       "28                          It deserves strong love.              1   \n",
       "29                             It is an insane game.              1   \n",
       "..                                                 ...          ...   \n",
       "970  Enough can not be said of the remarkable anima...            1   \n",
       "971  The art style has the appearance of crayon/pen...            1   \n",
       "972  If you act in such a film, you should be glad ...            0   \n",
       "973  This one wants to surf on the small wave of sp...            0   \n",
       "974  If you haven't choked in your own vomit by the...            0   \n",
       "975  Still, it makes up for all of this with a supe...            1   \n",
       "976  Just consider the excellent story, solid actin...            1   \n",
       "977  Instead, we got a bore fest about a whiny, spo...            0   \n",
       "978  Then I watched it again two Sundays ago (March...            1   \n",
       "979       It is a very well acted and done TV Movie.              1   \n",
       "980  Judith Light is one of my favorite actresses a...            1   \n",
       "981                I keep watching it over and over.              1   \n",
       "982                 It's a sad movie, but very good.              1   \n",
       "983  If you have not seen this movie, I definitely ...            1   \n",
       "984           She is as lovely as usual, this cutie!              1   \n",
       "985  Still it's quite interesting and entertaining ...            1   \n",
       "986                    ;) Recommend with confidence!              1   \n",
       "987  This movie is well-balanced with comedy and dr...            1   \n",
       "988  It was a riot to see Hugo Weaving play a sex-o...            1   \n",
       "989  :) Anyway, the plot flowed smoothly and the ma...            1   \n",
       "990  The opening sequence of this gem is a classic,...            1   \n",
       "991             Fans of the genre will be in heaven.              1   \n",
       "992                Lange had become a great actress.              1   \n",
       "993                It looked like a wonderful story.              1   \n",
       "994            I never walked out of a movie faster.              0   \n",
       "995  I just got bored watching Jessice Lange take h...            0   \n",
       "996  Unfortunately, any virtue in this film's produ...            0   \n",
       "997                   In a word, it is embarrassing.              0   \n",
       "998                               Exceptionally bad!              0   \n",
       "999  All in all its an insult to one's intelligence...            0   \n",
       "\n",
       "                                              c_review  \n",
       "0      slow move aimless movi distress drift young man  \n",
       "1      sure lost flat charact audienc nearli half walk  \n",
       "2    attempt arti black white clever camera angl mo...  \n",
       "3                              littl music anyth speak  \n",
       "4    best scene movi gerardo tri find song keep run...  \n",
       "5    rest movi lack art charm mean empti work guess...  \n",
       "6                                        wast two hour  \n",
       "7    saw movi today thought good effort good messag...  \n",
       "8                                          bit predict  \n",
       "9                love cast jimmi buffet scienc teacher  \n",
       "10                                       babi owl ador  \n",
       "11         movi show lot florida best made look appeal  \n",
       "12                             song best muppet hilari  \n",
       "13                                                cool  \n",
       "14     right case movi deliv everyth almost right face  \n",
       "15       averag act main person low budget clearli see  \n",
       "16   review long overdu sinc consid tale two sister...  \n",
       "17   put gem movi term screenplay cinematographi ac...  \n",
       "18   practic perfect true masterpiec sea faux maste...  \n",
       "19   structur film easili tightli construct histori...  \n",
       "20    think film someth vital import occur everi minut  \n",
       "21   word content level film enough easili fill doz...  \n",
       "22                     anyon right mind ask anyth movi  \n",
       "23       quit simpli highest superl form cinema imagin  \n",
       "24   ye film requir rather signific amount puzzl so...  \n",
       "25                     short film certainli pull punch  \n",
       "26                          graphic far best part game  \n",
       "27                        number one best th game seri  \n",
       "28                                  deserv strong love  \n",
       "29                                          insan game  \n",
       "..                                                 ...  \n",
       "970                       enough said remark anim film  \n",
       "971  art style appear crayon pencil draw wonder col...  \n",
       "972   act film glad gonna drift away earth far possibl  \n",
       "973  one want surf small wave space movi deep impac...  \n",
       "974  choke vomit end cheap drama worthless dialogu ...  \n",
       "975  still make super end depict great sea vessel t...  \n",
       "976    consid excel stori solid act look film ad bonus  \n",
       "977     instead got bore fest whini spoil brat babysit  \n",
       "978  watch two sunday ago march th began realli enj...  \n",
       "979                              well act done tv movi  \n",
       "980  judith light one favorit actress think superb ...  \n",
       "981                                         keep watch  \n",
       "982                                      sad movi good  \n",
       "983                        seen movi definit recommend  \n",
       "984                                    love usual cuti  \n",
       "985               still quit interest entertain follow  \n",
       "986                                   recommend confid  \n",
       "987     movi well balanc comedi drama thoroughli enjoy  \n",
       "988  riot see hugo weav play sex obsess gay real es...  \n",
       "989     anyway plot flow smoothli male bond scene hoot  \n",
       "990  open sequenc gem classic cat n mous game follo...  \n",
       "991                                    fan genr heaven  \n",
       "992                           lang becom great actress  \n",
       "993                             look like wonder stori  \n",
       "994                             never walk movi faster  \n",
       "995              got bore watch jessic lang take cloth  \n",
       "996  unfortun virtu film product work lost regrett ...  \n",
       "997                                     word embarrass  \n",
       "998                                         except bad  \n",
       "999                insult one intellig huge wast money  \n",
       "\n",
       "[1000 rows x 3 columns]"
      ]
     },
     "execution_count": 21,
     "metadata": {},
     "output_type": "execute_result"
    }
   ],
   "source": [
    "data['c_review']=data['review'].apply(lambda x: preprocess(x))\n",
    "\n",
    "data\n"
   ]
  },
  {
   "cell_type": "markdown",
   "metadata": {
    "colab_type": "text",
    "id": "V8s-deLEEiXA"
   },
   "source": [
    "# Glove\n",
    "GloVe is an unsupervised learning algorithm for obtaining vector representations for words. Training is performed on aggregated global word-word co-occurrence statistics from a corpus, and the resulting representations showcase interesting linear substructures of the word vector space."
   ]
  },
  {
   "cell_type": "code",
   "execution_count": 22,
   "metadata": {
    "colab": {},
    "colab_type": "code",
    "id": "llye4G5CEhpG"
   },
   "outputs": [
    {
     "name": "stderr",
     "output_type": "stream",
     "text": [
      "C:\\Users\\dell\\Anaconda3\\lib\\site-packages\\smart_open\\ssh.py:34: UserWarning: paramiko missing, opening SSH/SCP/SFTP paths will be disabled.  `pip install paramiko` to suppress\n",
      "  warnings.warn('paramiko missing, opening SSH/SCP/SFTP paths will be disabled.  `pip install paramiko` to suppress')\n"
     ]
    }
   ],
   "source": [
    "import gensim\n",
    "from gensim.models import KeyedVectors\n",
    "from gensim.scripts.glove2word2vec import glove2word2vec\n"
   ]
  },
  {
   "cell_type": "markdown",
   "metadata": {},
   "source": [
    "### Download glove.6B.50d.txt from below link:-\n",
    "\n",
    "http://nlp.stanford.edu/data/glove.6B.zip"
   ]
  },
  {
   "cell_type": "code",
   "execution_count": 23,
   "metadata": {
    "colab": {
     "base_uri": "https://localhost:8080/",
     "height": 438
    },
    "colab_type": "code",
    "id": "Vg27njhnFh64",
    "outputId": "f8cb6713-e02a-40c7-d415-5844c418865a"
   },
   "outputs": [],
   "source": [
    "\n",
    "glove2word2vec(glove_input_file='glove.6B.50d.txt',word2vec_output_file=\"CVectors.txt\")\n",
    "model=KeyedVectors.load_word2vec_format(\"CVectors.txt\")"
   ]
  },
  {
   "cell_type": "markdown",
   "metadata": {},
   "source": [
    "we will make two dataframe for unweighted sentence vector and normalised sentence vector"
   ]
  },
  {
   "cell_type": "markdown",
   "metadata": {},
   "source": [
    " - ## Unweighted Sentence Vector :\n",
    "    Let’s suppose we have a sentence ‘S’ which has 3 words (w1, w2, w3) and we want to predict its sentiment. \n",
    "Each of the word has 50-dim word vectors [fd1 , fd2 , fd3 , ........ , fd50]. To get the sentence vector we just add the word vectors for all the words in the sentence along each dimension. In this case: \n",
    "Sentence vector(S)[50-dim]= (word_vector(w1)+word_vector(w2)+word_vector(w3))\n",
    "\n",
    "- ## Normalised Sentence Vector :\n",
    "    Sentence vector normalized(S)[50-dim]= (word_vector(w1)+word_vector(w2)+word_vector(w3))/ (number of words)"
   ]
  },
  {
   "cell_type": "markdown",
   "metadata": {},
   "source": [
    "### For Unweighted\n"
   ]
  },
  {
   "cell_type": "code",
   "execution_count": 24,
   "metadata": {},
   "outputs": [],
   "source": [
    "List=[0]*50\n",
    "\n",
    "def  Sum(x,List,val):\n",
    "\n",
    "    vector=List\n",
    "    for i in x:\n",
    "        try:\n",
    "            vector=np.add(vector,model[i])\n",
    "        except:\n",
    "            vector=np.add(vector,List)\n",
    "            continue\n",
    "    return vector[val]"
   ]
  },
  {
   "cell_type": "code",
   "execution_count": 25,
   "metadata": {},
   "outputs": [
    {
     "data": {
      "text/html": [
       "<div>\n",
       "<style scoped>\n",
       "    .dataframe tbody tr th:only-of-type {\n",
       "        vertical-align: middle;\n",
       "    }\n",
       "\n",
       "    .dataframe tbody tr th {\n",
       "        vertical-align: top;\n",
       "    }\n",
       "\n",
       "    .dataframe thead th {\n",
       "        text-align: right;\n",
       "    }\n",
       "</style>\n",
       "<table border=\"1\" class=\"dataframe\">\n",
       "  <thead>\n",
       "    <tr style=\"text-align: right;\">\n",
       "      <th></th>\n",
       "      <th>review</th>\n",
       "      <th>t_sentiment</th>\n",
       "      <th>c_review</th>\n",
       "      <th>feat0</th>\n",
       "      <th>feat1</th>\n",
       "      <th>feat2</th>\n",
       "      <th>feat3</th>\n",
       "      <th>feat4</th>\n",
       "      <th>feat5</th>\n",
       "      <th>feat6</th>\n",
       "      <th>...</th>\n",
       "      <th>feat40</th>\n",
       "      <th>feat41</th>\n",
       "      <th>feat42</th>\n",
       "      <th>feat43</th>\n",
       "      <th>feat44</th>\n",
       "      <th>feat45</th>\n",
       "      <th>feat46</th>\n",
       "      <th>feat47</th>\n",
       "      <th>feat48</th>\n",
       "      <th>feat49</th>\n",
       "    </tr>\n",
       "  </thead>\n",
       "  <tbody>\n",
       "    <tr>\n",
       "      <th>0</th>\n",
       "      <td>A very, very, very slow-moving, aimless movie ...</td>\n",
       "      <td>0</td>\n",
       "      <td>slow move aimless movi distress drift young man</td>\n",
       "      <td>-4.197564</td>\n",
       "      <td>38.599630</td>\n",
       "      <td>26.597819</td>\n",
       "      <td>28.773070</td>\n",
       "      <td>12.019606</td>\n",
       "      <td>-2.796592</td>\n",
       "      <td>17.91815</td>\n",
       "      <td>...</td>\n",
       "      <td>30.318663</td>\n",
       "      <td>1.836787</td>\n",
       "      <td>-3.325347</td>\n",
       "      <td>-6.426317</td>\n",
       "      <td>-5.427331</td>\n",
       "      <td>13.666963</td>\n",
       "      <td>7.766495</td>\n",
       "      <td>-18.603126</td>\n",
       "      <td>12.761814</td>\n",
       "      <td>33.949570</td>\n",
       "    </tr>\n",
       "    <tr>\n",
       "      <th>1</th>\n",
       "      <td>Not sure who was more lost - the flat characte...</td>\n",
       "      <td>0</td>\n",
       "      <td>sure lost flat charact audienc nearli half walk</td>\n",
       "      <td>-5.360641</td>\n",
       "      <td>29.964580</td>\n",
       "      <td>25.472774</td>\n",
       "      <td>26.135550</td>\n",
       "      <td>17.642156</td>\n",
       "      <td>5.047866</td>\n",
       "      <td>14.88841</td>\n",
       "      <td>...</td>\n",
       "      <td>29.368261</td>\n",
       "      <td>4.551691</td>\n",
       "      <td>-12.723127</td>\n",
       "      <td>-0.664520</td>\n",
       "      <td>-4.105170</td>\n",
       "      <td>13.336035</td>\n",
       "      <td>8.802163</td>\n",
       "      <td>-10.968968</td>\n",
       "      <td>11.866485</td>\n",
       "      <td>37.856241</td>\n",
       "    </tr>\n",
       "    <tr>\n",
       "      <th>2</th>\n",
       "      <td>Attempting artiness with black &amp; white and cle...</td>\n",
       "      <td>0</td>\n",
       "      <td>attempt arti black white clever camera angl mo...</td>\n",
       "      <td>-7.471877</td>\n",
       "      <td>79.155031</td>\n",
       "      <td>61.863741</td>\n",
       "      <td>63.561971</td>\n",
       "      <td>39.114575</td>\n",
       "      <td>2.377331</td>\n",
       "      <td>31.51271</td>\n",
       "      <td>...</td>\n",
       "      <td>76.863811</td>\n",
       "      <td>6.774646</td>\n",
       "      <td>-22.014274</td>\n",
       "      <td>4.026643</td>\n",
       "      <td>-7.272920</td>\n",
       "      <td>29.995502</td>\n",
       "      <td>19.717337</td>\n",
       "      <td>-39.834401</td>\n",
       "      <td>35.024002</td>\n",
       "      <td>78.983641</td>\n",
       "    </tr>\n",
       "    <tr>\n",
       "      <th>3</th>\n",
       "      <td>Very little music or anything to speak of.</td>\n",
       "      <td>0</td>\n",
       "      <td>littl music anyth speak</td>\n",
       "      <td>-2.429580</td>\n",
       "      <td>15.870500</td>\n",
       "      <td>14.719219</td>\n",
       "      <td>13.581720</td>\n",
       "      <td>10.725060</td>\n",
       "      <td>-0.731814</td>\n",
       "      <td>7.89570</td>\n",
       "      <td>...</td>\n",
       "      <td>13.393341</td>\n",
       "      <td>-1.855404</td>\n",
       "      <td>-4.418319</td>\n",
       "      <td>0.518827</td>\n",
       "      <td>-2.197795</td>\n",
       "      <td>2.092962</td>\n",
       "      <td>4.294747</td>\n",
       "      <td>-7.061218</td>\n",
       "      <td>7.199637</td>\n",
       "      <td>14.522490</td>\n",
       "    </tr>\n",
       "    <tr>\n",
       "      <th>4</th>\n",
       "      <td>The best scene in the movie was when Gerardo i...</td>\n",
       "      <td>1</td>\n",
       "      <td>best scene movi gerardo tri find song keep run...</td>\n",
       "      <td>-1.437613</td>\n",
       "      <td>34.956560</td>\n",
       "      <td>30.285034</td>\n",
       "      <td>29.842580</td>\n",
       "      <td>11.505750</td>\n",
       "      <td>-0.170489</td>\n",
       "      <td>18.92531</td>\n",
       "      <td>...</td>\n",
       "      <td>35.921137</td>\n",
       "      <td>7.672367</td>\n",
       "      <td>-9.201550</td>\n",
       "      <td>-2.447553</td>\n",
       "      <td>-4.848333</td>\n",
       "      <td>16.939742</td>\n",
       "      <td>8.625989</td>\n",
       "      <td>-18.055855</td>\n",
       "      <td>11.998434</td>\n",
       "      <td>47.643901</td>\n",
       "    </tr>\n",
       "    <tr>\n",
       "      <th>5</th>\n",
       "      <td>The rest of the movie lacks art, charm, meanin...</td>\n",
       "      <td>0</td>\n",
       "      <td>rest movi lack art charm mean empti work guess...</td>\n",
       "      <td>-5.060242</td>\n",
       "      <td>38.760730</td>\n",
       "      <td>33.436864</td>\n",
       "      <td>31.293670</td>\n",
       "      <td>17.010846</td>\n",
       "      <td>-0.254305</td>\n",
       "      <td>15.50600</td>\n",
       "      <td>...</td>\n",
       "      <td>33.400127</td>\n",
       "      <td>2.603767</td>\n",
       "      <td>-8.038705</td>\n",
       "      <td>4.060161</td>\n",
       "      <td>-5.060063</td>\n",
       "      <td>10.819471</td>\n",
       "      <td>10.451813</td>\n",
       "      <td>-17.977619</td>\n",
       "      <td>11.043360</td>\n",
       "      <td>35.109611</td>\n",
       "    </tr>\n",
       "    <tr>\n",
       "      <th>6</th>\n",
       "      <td>Wasted two hours.</td>\n",
       "      <td>0</td>\n",
       "      <td>wast two hour</td>\n",
       "      <td>-3.584252</td>\n",
       "      <td>10.919480</td>\n",
       "      <td>7.789400</td>\n",
       "      <td>9.762280</td>\n",
       "      <td>3.454532</td>\n",
       "      <td>-1.329416</td>\n",
       "      <td>4.96076</td>\n",
       "      <td>...</td>\n",
       "      <td>9.224060</td>\n",
       "      <td>0.055057</td>\n",
       "      <td>-2.907110</td>\n",
       "      <td>-0.598535</td>\n",
       "      <td>0.706075</td>\n",
       "      <td>2.672833</td>\n",
       "      <td>0.873195</td>\n",
       "      <td>-5.630909</td>\n",
       "      <td>4.908394</td>\n",
       "      <td>10.047060</td>\n",
       "    </tr>\n",
       "    <tr>\n",
       "      <th>7</th>\n",
       "      <td>Saw the movie today and thought it was a good ...</td>\n",
       "      <td>1</td>\n",
       "      <td>saw movi today thought good effort good messag...</td>\n",
       "      <td>-5.467158</td>\n",
       "      <td>40.594550</td>\n",
       "      <td>23.561252</td>\n",
       "      <td>32.991340</td>\n",
       "      <td>12.499276</td>\n",
       "      <td>-1.606365</td>\n",
       "      <td>18.92067</td>\n",
       "      <td>...</td>\n",
       "      <td>32.654571</td>\n",
       "      <td>2.333391</td>\n",
       "      <td>-4.758278</td>\n",
       "      <td>-7.465787</td>\n",
       "      <td>-1.629105</td>\n",
       "      <td>11.714942</td>\n",
       "      <td>6.249578</td>\n",
       "      <td>-21.907967</td>\n",
       "      <td>15.215990</td>\n",
       "      <td>43.951050</td>\n",
       "    </tr>\n",
       "    <tr>\n",
       "      <th>8</th>\n",
       "      <td>A bit predictable.</td>\n",
       "      <td>0</td>\n",
       "      <td>bit predict</td>\n",
       "      <td>-1.285620</td>\n",
       "      <td>5.728420</td>\n",
       "      <td>6.434684</td>\n",
       "      <td>5.696250</td>\n",
       "      <td>3.806140</td>\n",
       "      <td>1.092314</td>\n",
       "      <td>2.10018</td>\n",
       "      <td>...</td>\n",
       "      <td>6.712511</td>\n",
       "      <td>2.265684</td>\n",
       "      <td>-2.315596</td>\n",
       "      <td>2.134150</td>\n",
       "      <td>0.283873</td>\n",
       "      <td>4.382250</td>\n",
       "      <td>1.634295</td>\n",
       "      <td>-4.479380</td>\n",
       "      <td>1.639536</td>\n",
       "      <td>11.603790</td>\n",
       "    </tr>\n",
       "    <tr>\n",
       "      <th>9</th>\n",
       "      <td>Loved the casting of Jimmy Buffet as the scien...</td>\n",
       "      <td>1</td>\n",
       "      <td>love cast jimmi buffet scienc teacher</td>\n",
       "      <td>-3.294901</td>\n",
       "      <td>24.283650</td>\n",
       "      <td>21.559984</td>\n",
       "      <td>21.486170</td>\n",
       "      <td>12.660110</td>\n",
       "      <td>-4.279647</td>\n",
       "      <td>11.80536</td>\n",
       "      <td>...</td>\n",
       "      <td>28.479577</td>\n",
       "      <td>2.939434</td>\n",
       "      <td>-2.515512</td>\n",
       "      <td>0.627667</td>\n",
       "      <td>-2.952827</td>\n",
       "      <td>11.990213</td>\n",
       "      <td>6.492439</td>\n",
       "      <td>-13.737908</td>\n",
       "      <td>9.483167</td>\n",
       "      <td>25.999710</td>\n",
       "    </tr>\n",
       "  </tbody>\n",
       "</table>\n",
       "<p>10 rows × 53 columns</p>\n",
       "</div>"
      ],
      "text/plain": [
       "                                              review  t_sentiment  \\\n",
       "0  A very, very, very slow-moving, aimless movie ...            0   \n",
       "1  Not sure who was more lost - the flat characte...            0   \n",
       "2  Attempting artiness with black & white and cle...            0   \n",
       "3       Very little music or anything to speak of.              0   \n",
       "4  The best scene in the movie was when Gerardo i...            1   \n",
       "5  The rest of the movie lacks art, charm, meanin...            0   \n",
       "6                                Wasted two hours.              0   \n",
       "7  Saw the movie today and thought it was a good ...            1   \n",
       "8                               A bit predictable.              0   \n",
       "9  Loved the casting of Jimmy Buffet as the scien...            1   \n",
       "\n",
       "                                            c_review     feat0      feat1  \\\n",
       "0    slow move aimless movi distress drift young man -4.197564  38.599630   \n",
       "1    sure lost flat charact audienc nearli half walk -5.360641  29.964580   \n",
       "2  attempt arti black white clever camera angl mo... -7.471877  79.155031   \n",
       "3                            littl music anyth speak -2.429580  15.870500   \n",
       "4  best scene movi gerardo tri find song keep run... -1.437613  34.956560   \n",
       "5  rest movi lack art charm mean empti work guess... -5.060242  38.760730   \n",
       "6                                      wast two hour -3.584252  10.919480   \n",
       "7  saw movi today thought good effort good messag... -5.467158  40.594550   \n",
       "8                                        bit predict -1.285620   5.728420   \n",
       "9              love cast jimmi buffet scienc teacher -3.294901  24.283650   \n",
       "\n",
       "       feat2      feat3      feat4     feat5     feat6  ...     feat40  \\\n",
       "0  26.597819  28.773070  12.019606 -2.796592  17.91815  ...  30.318663   \n",
       "1  25.472774  26.135550  17.642156  5.047866  14.88841  ...  29.368261   \n",
       "2  61.863741  63.561971  39.114575  2.377331  31.51271  ...  76.863811   \n",
       "3  14.719219  13.581720  10.725060 -0.731814   7.89570  ...  13.393341   \n",
       "4  30.285034  29.842580  11.505750 -0.170489  18.92531  ...  35.921137   \n",
       "5  33.436864  31.293670  17.010846 -0.254305  15.50600  ...  33.400127   \n",
       "6   7.789400   9.762280   3.454532 -1.329416   4.96076  ...   9.224060   \n",
       "7  23.561252  32.991340  12.499276 -1.606365  18.92067  ...  32.654571   \n",
       "8   6.434684   5.696250   3.806140  1.092314   2.10018  ...   6.712511   \n",
       "9  21.559984  21.486170  12.660110 -4.279647  11.80536  ...  28.479577   \n",
       "\n",
       "     feat41     feat42    feat43    feat44     feat45     feat46     feat47  \\\n",
       "0  1.836787  -3.325347 -6.426317 -5.427331  13.666963   7.766495 -18.603126   \n",
       "1  4.551691 -12.723127 -0.664520 -4.105170  13.336035   8.802163 -10.968968   \n",
       "2  6.774646 -22.014274  4.026643 -7.272920  29.995502  19.717337 -39.834401   \n",
       "3 -1.855404  -4.418319  0.518827 -2.197795   2.092962   4.294747  -7.061218   \n",
       "4  7.672367  -9.201550 -2.447553 -4.848333  16.939742   8.625989 -18.055855   \n",
       "5  2.603767  -8.038705  4.060161 -5.060063  10.819471  10.451813 -17.977619   \n",
       "6  0.055057  -2.907110 -0.598535  0.706075   2.672833   0.873195  -5.630909   \n",
       "7  2.333391  -4.758278 -7.465787 -1.629105  11.714942   6.249578 -21.907967   \n",
       "8  2.265684  -2.315596  2.134150  0.283873   4.382250   1.634295  -4.479380   \n",
       "9  2.939434  -2.515512  0.627667 -2.952827  11.990213   6.492439 -13.737908   \n",
       "\n",
       "      feat48     feat49  \n",
       "0  12.761814  33.949570  \n",
       "1  11.866485  37.856241  \n",
       "2  35.024002  78.983641  \n",
       "3   7.199637  14.522490  \n",
       "4  11.998434  47.643901  \n",
       "5  11.043360  35.109611  \n",
       "6   4.908394  10.047060  \n",
       "7  15.215990  43.951050  \n",
       "8   1.639536  11.603790  \n",
       "9   9.483167  25.999710  \n",
       "\n",
       "[10 rows x 53 columns]"
      ]
     },
     "execution_count": 25,
     "metadata": {},
     "output_type": "execute_result"
    }
   ],
   "source": [
    "unwgt=data\n",
    "\n",
    "for i in range(50):\n",
    "    unwgt['feat'+str(i)]=unwgt['c_review'].apply(Sum,args=[List,i])\n",
    "\n",
    "unwgt.head(10)\n"
   ]
  },
  {
   "cell_type": "code",
   "execution_count": 26,
   "metadata": {},
   "outputs": [],
   "source": [
    "List=[0]*50\n",
    "def Sum(x,List,val):\n",
    "    v=List\n",
    "    for i in x:\n",
    "        try:\n",
    "            v=np.add(v,model[i])\n",
    "        except:\n",
    "            v=np.add(v,List)\n",
    "            continue\n",
    "    v=np.divide(v,len(v))\n",
    "    return v[val]\n",
    "\n"
   ]
  },
  {
   "cell_type": "code",
   "execution_count": 27,
   "metadata": {},
   "outputs": [
    {
     "data": {
      "text/html": [
       "<div>\n",
       "<style scoped>\n",
       "    .dataframe tbody tr th:only-of-type {\n",
       "        vertical-align: middle;\n",
       "    }\n",
       "\n",
       "    .dataframe tbody tr th {\n",
       "        vertical-align: top;\n",
       "    }\n",
       "\n",
       "    .dataframe thead th {\n",
       "        text-align: right;\n",
       "    }\n",
       "</style>\n",
       "<table border=\"1\" class=\"dataframe\">\n",
       "  <thead>\n",
       "    <tr style=\"text-align: right;\">\n",
       "      <th></th>\n",
       "      <th>review</th>\n",
       "      <th>t_sentiment</th>\n",
       "      <th>c_review</th>\n",
       "      <th>feat0</th>\n",
       "      <th>feat1</th>\n",
       "      <th>feat2</th>\n",
       "      <th>feat3</th>\n",
       "      <th>feat4</th>\n",
       "      <th>feat5</th>\n",
       "      <th>feat6</th>\n",
       "      <th>...</th>\n",
       "      <th>feat40</th>\n",
       "      <th>feat41</th>\n",
       "      <th>feat42</th>\n",
       "      <th>feat43</th>\n",
       "      <th>feat44</th>\n",
       "      <th>feat45</th>\n",
       "      <th>feat46</th>\n",
       "      <th>feat47</th>\n",
       "      <th>feat48</th>\n",
       "      <th>feat49</th>\n",
       "    </tr>\n",
       "  </thead>\n",
       "  <tbody>\n",
       "    <tr>\n",
       "      <th>0</th>\n",
       "      <td>A very, very, very slow-moving, aimless movie ...</td>\n",
       "      <td>0</td>\n",
       "      <td>slow move aimless movi distress drift young man</td>\n",
       "      <td>-0.083951</td>\n",
       "      <td>0.771993</td>\n",
       "      <td>0.531956</td>\n",
       "      <td>0.575461</td>\n",
       "      <td>0.240392</td>\n",
       "      <td>-0.055932</td>\n",
       "      <td>0.358363</td>\n",
       "      <td>...</td>\n",
       "      <td>0.606373</td>\n",
       "      <td>0.036736</td>\n",
       "      <td>-0.066507</td>\n",
       "      <td>-0.128526</td>\n",
       "      <td>-0.108547</td>\n",
       "      <td>0.273339</td>\n",
       "      <td>0.155330</td>\n",
       "      <td>-0.372063</td>\n",
       "      <td>0.255236</td>\n",
       "      <td>0.678991</td>\n",
       "    </tr>\n",
       "    <tr>\n",
       "      <th>1</th>\n",
       "      <td>Not sure who was more lost - the flat characte...</td>\n",
       "      <td>0</td>\n",
       "      <td>sure lost flat charact audienc nearli half walk</td>\n",
       "      <td>-0.107213</td>\n",
       "      <td>0.599292</td>\n",
       "      <td>0.509455</td>\n",
       "      <td>0.522711</td>\n",
       "      <td>0.352843</td>\n",
       "      <td>0.100957</td>\n",
       "      <td>0.297768</td>\n",
       "      <td>...</td>\n",
       "      <td>0.587365</td>\n",
       "      <td>0.091034</td>\n",
       "      <td>-0.254463</td>\n",
       "      <td>-0.013290</td>\n",
       "      <td>-0.082103</td>\n",
       "      <td>0.266721</td>\n",
       "      <td>0.176043</td>\n",
       "      <td>-0.219379</td>\n",
       "      <td>0.237330</td>\n",
       "      <td>0.757125</td>\n",
       "    </tr>\n",
       "    <tr>\n",
       "      <th>2</th>\n",
       "      <td>Attempting artiness with black &amp; white and cle...</td>\n",
       "      <td>0</td>\n",
       "      <td>attempt arti black white clever camera angl mo...</td>\n",
       "      <td>-0.149438</td>\n",
       "      <td>1.583101</td>\n",
       "      <td>1.237275</td>\n",
       "      <td>1.271239</td>\n",
       "      <td>0.782292</td>\n",
       "      <td>0.047547</td>\n",
       "      <td>0.630254</td>\n",
       "      <td>...</td>\n",
       "      <td>1.537276</td>\n",
       "      <td>0.135493</td>\n",
       "      <td>-0.440285</td>\n",
       "      <td>0.080533</td>\n",
       "      <td>-0.145458</td>\n",
       "      <td>0.599910</td>\n",
       "      <td>0.394347</td>\n",
       "      <td>-0.796688</td>\n",
       "      <td>0.700480</td>\n",
       "      <td>1.579673</td>\n",
       "    </tr>\n",
       "    <tr>\n",
       "      <th>3</th>\n",
       "      <td>Very little music or anything to speak of.</td>\n",
       "      <td>0</td>\n",
       "      <td>littl music anyth speak</td>\n",
       "      <td>-0.048592</td>\n",
       "      <td>0.317410</td>\n",
       "      <td>0.294384</td>\n",
       "      <td>0.271634</td>\n",
       "      <td>0.214501</td>\n",
       "      <td>-0.014636</td>\n",
       "      <td>0.157914</td>\n",
       "      <td>...</td>\n",
       "      <td>0.267867</td>\n",
       "      <td>-0.037108</td>\n",
       "      <td>-0.088366</td>\n",
       "      <td>0.010377</td>\n",
       "      <td>-0.043956</td>\n",
       "      <td>0.041859</td>\n",
       "      <td>0.085895</td>\n",
       "      <td>-0.141224</td>\n",
       "      <td>0.143993</td>\n",
       "      <td>0.290450</td>\n",
       "    </tr>\n",
       "    <tr>\n",
       "      <th>4</th>\n",
       "      <td>The best scene in the movie was when Gerardo i...</td>\n",
       "      <td>1</td>\n",
       "      <td>best scene movi gerardo tri find song keep run...</td>\n",
       "      <td>-0.028752</td>\n",
       "      <td>0.699131</td>\n",
       "      <td>0.605701</td>\n",
       "      <td>0.596852</td>\n",
       "      <td>0.230115</td>\n",
       "      <td>-0.003410</td>\n",
       "      <td>0.378506</td>\n",
       "      <td>...</td>\n",
       "      <td>0.718423</td>\n",
       "      <td>0.153447</td>\n",
       "      <td>-0.184031</td>\n",
       "      <td>-0.048951</td>\n",
       "      <td>-0.096967</td>\n",
       "      <td>0.338795</td>\n",
       "      <td>0.172520</td>\n",
       "      <td>-0.361117</td>\n",
       "      <td>0.239969</td>\n",
       "      <td>0.952878</td>\n",
       "    </tr>\n",
       "    <tr>\n",
       "      <th>5</th>\n",
       "      <td>The rest of the movie lacks art, charm, meanin...</td>\n",
       "      <td>0</td>\n",
       "      <td>rest movi lack art charm mean empti work guess...</td>\n",
       "      <td>-0.101205</td>\n",
       "      <td>0.775215</td>\n",
       "      <td>0.668737</td>\n",
       "      <td>0.625873</td>\n",
       "      <td>0.340217</td>\n",
       "      <td>-0.005086</td>\n",
       "      <td>0.310120</td>\n",
       "      <td>...</td>\n",
       "      <td>0.668003</td>\n",
       "      <td>0.052075</td>\n",
       "      <td>-0.160774</td>\n",
       "      <td>0.081203</td>\n",
       "      <td>-0.101201</td>\n",
       "      <td>0.216389</td>\n",
       "      <td>0.209036</td>\n",
       "      <td>-0.359552</td>\n",
       "      <td>0.220867</td>\n",
       "      <td>0.702192</td>\n",
       "    </tr>\n",
       "    <tr>\n",
       "      <th>6</th>\n",
       "      <td>Wasted two hours.</td>\n",
       "      <td>0</td>\n",
       "      <td>wast two hour</td>\n",
       "      <td>-0.071685</td>\n",
       "      <td>0.218390</td>\n",
       "      <td>0.155788</td>\n",
       "      <td>0.195246</td>\n",
       "      <td>0.069091</td>\n",
       "      <td>-0.026588</td>\n",
       "      <td>0.099215</td>\n",
       "      <td>...</td>\n",
       "      <td>0.184481</td>\n",
       "      <td>0.001101</td>\n",
       "      <td>-0.058142</td>\n",
       "      <td>-0.011971</td>\n",
       "      <td>0.014121</td>\n",
       "      <td>0.053457</td>\n",
       "      <td>0.017464</td>\n",
       "      <td>-0.112618</td>\n",
       "      <td>0.098168</td>\n",
       "      <td>0.200941</td>\n",
       "    </tr>\n",
       "    <tr>\n",
       "      <th>7</th>\n",
       "      <td>Saw the movie today and thought it was a good ...</td>\n",
       "      <td>1</td>\n",
       "      <td>saw movi today thought good effort good messag...</td>\n",
       "      <td>-0.109343</td>\n",
       "      <td>0.811891</td>\n",
       "      <td>0.471225</td>\n",
       "      <td>0.659827</td>\n",
       "      <td>0.249986</td>\n",
       "      <td>-0.032127</td>\n",
       "      <td>0.378413</td>\n",
       "      <td>...</td>\n",
       "      <td>0.653091</td>\n",
       "      <td>0.046668</td>\n",
       "      <td>-0.095166</td>\n",
       "      <td>-0.149316</td>\n",
       "      <td>-0.032582</td>\n",
       "      <td>0.234299</td>\n",
       "      <td>0.124992</td>\n",
       "      <td>-0.438159</td>\n",
       "      <td>0.304320</td>\n",
       "      <td>0.879021</td>\n",
       "    </tr>\n",
       "    <tr>\n",
       "      <th>8</th>\n",
       "      <td>A bit predictable.</td>\n",
       "      <td>0</td>\n",
       "      <td>bit predict</td>\n",
       "      <td>-0.025712</td>\n",
       "      <td>0.114568</td>\n",
       "      <td>0.128694</td>\n",
       "      <td>0.113925</td>\n",
       "      <td>0.076123</td>\n",
       "      <td>0.021846</td>\n",
       "      <td>0.042004</td>\n",
       "      <td>...</td>\n",
       "      <td>0.134250</td>\n",
       "      <td>0.045314</td>\n",
       "      <td>-0.046312</td>\n",
       "      <td>0.042683</td>\n",
       "      <td>0.005677</td>\n",
       "      <td>0.087645</td>\n",
       "      <td>0.032686</td>\n",
       "      <td>-0.089588</td>\n",
       "      <td>0.032791</td>\n",
       "      <td>0.232076</td>\n",
       "    </tr>\n",
       "    <tr>\n",
       "      <th>9</th>\n",
       "      <td>Loved the casting of Jimmy Buffet as the scien...</td>\n",
       "      <td>1</td>\n",
       "      <td>love cast jimmi buffet scienc teacher</td>\n",
       "      <td>-0.065898</td>\n",
       "      <td>0.485673</td>\n",
       "      <td>0.431200</td>\n",
       "      <td>0.429723</td>\n",
       "      <td>0.253202</td>\n",
       "      <td>-0.085593</td>\n",
       "      <td>0.236107</td>\n",
       "      <td>...</td>\n",
       "      <td>0.569592</td>\n",
       "      <td>0.058789</td>\n",
       "      <td>-0.050310</td>\n",
       "      <td>0.012553</td>\n",
       "      <td>-0.059057</td>\n",
       "      <td>0.239804</td>\n",
       "      <td>0.129849</td>\n",
       "      <td>-0.274758</td>\n",
       "      <td>0.189663</td>\n",
       "      <td>0.519994</td>\n",
       "    </tr>\n",
       "  </tbody>\n",
       "</table>\n",
       "<p>10 rows × 53 columns</p>\n",
       "</div>"
      ],
      "text/plain": [
       "                                              review  t_sentiment  \\\n",
       "0  A very, very, very slow-moving, aimless movie ...            0   \n",
       "1  Not sure who was more lost - the flat characte...            0   \n",
       "2  Attempting artiness with black & white and cle...            0   \n",
       "3       Very little music or anything to speak of.              0   \n",
       "4  The best scene in the movie was when Gerardo i...            1   \n",
       "5  The rest of the movie lacks art, charm, meanin...            0   \n",
       "6                                Wasted two hours.              0   \n",
       "7  Saw the movie today and thought it was a good ...            1   \n",
       "8                               A bit predictable.              0   \n",
       "9  Loved the casting of Jimmy Buffet as the scien...            1   \n",
       "\n",
       "                                            c_review     feat0     feat1  \\\n",
       "0    slow move aimless movi distress drift young man -0.083951  0.771993   \n",
       "1    sure lost flat charact audienc nearli half walk -0.107213  0.599292   \n",
       "2  attempt arti black white clever camera angl mo... -0.149438  1.583101   \n",
       "3                            littl music anyth speak -0.048592  0.317410   \n",
       "4  best scene movi gerardo tri find song keep run... -0.028752  0.699131   \n",
       "5  rest movi lack art charm mean empti work guess... -0.101205  0.775215   \n",
       "6                                      wast two hour -0.071685  0.218390   \n",
       "7  saw movi today thought good effort good messag... -0.109343  0.811891   \n",
       "8                                        bit predict -0.025712  0.114568   \n",
       "9              love cast jimmi buffet scienc teacher -0.065898  0.485673   \n",
       "\n",
       "      feat2     feat3     feat4     feat5     feat6  ...    feat40    feat41  \\\n",
       "0  0.531956  0.575461  0.240392 -0.055932  0.358363  ...  0.606373  0.036736   \n",
       "1  0.509455  0.522711  0.352843  0.100957  0.297768  ...  0.587365  0.091034   \n",
       "2  1.237275  1.271239  0.782292  0.047547  0.630254  ...  1.537276  0.135493   \n",
       "3  0.294384  0.271634  0.214501 -0.014636  0.157914  ...  0.267867 -0.037108   \n",
       "4  0.605701  0.596852  0.230115 -0.003410  0.378506  ...  0.718423  0.153447   \n",
       "5  0.668737  0.625873  0.340217 -0.005086  0.310120  ...  0.668003  0.052075   \n",
       "6  0.155788  0.195246  0.069091 -0.026588  0.099215  ...  0.184481  0.001101   \n",
       "7  0.471225  0.659827  0.249986 -0.032127  0.378413  ...  0.653091  0.046668   \n",
       "8  0.128694  0.113925  0.076123  0.021846  0.042004  ...  0.134250  0.045314   \n",
       "9  0.431200  0.429723  0.253202 -0.085593  0.236107  ...  0.569592  0.058789   \n",
       "\n",
       "     feat42    feat43    feat44    feat45    feat46    feat47    feat48  \\\n",
       "0 -0.066507 -0.128526 -0.108547  0.273339  0.155330 -0.372063  0.255236   \n",
       "1 -0.254463 -0.013290 -0.082103  0.266721  0.176043 -0.219379  0.237330   \n",
       "2 -0.440285  0.080533 -0.145458  0.599910  0.394347 -0.796688  0.700480   \n",
       "3 -0.088366  0.010377 -0.043956  0.041859  0.085895 -0.141224  0.143993   \n",
       "4 -0.184031 -0.048951 -0.096967  0.338795  0.172520 -0.361117  0.239969   \n",
       "5 -0.160774  0.081203 -0.101201  0.216389  0.209036 -0.359552  0.220867   \n",
       "6 -0.058142 -0.011971  0.014121  0.053457  0.017464 -0.112618  0.098168   \n",
       "7 -0.095166 -0.149316 -0.032582  0.234299  0.124992 -0.438159  0.304320   \n",
       "8 -0.046312  0.042683  0.005677  0.087645  0.032686 -0.089588  0.032791   \n",
       "9 -0.050310  0.012553 -0.059057  0.239804  0.129849 -0.274758  0.189663   \n",
       "\n",
       "     feat49  \n",
       "0  0.678991  \n",
       "1  0.757125  \n",
       "2  1.579673  \n",
       "3  0.290450  \n",
       "4  0.952878  \n",
       "5  0.702192  \n",
       "6  0.200941  \n",
       "7  0.879021  \n",
       "8  0.232076  \n",
       "9  0.519994  \n",
       "\n",
       "[10 rows x 53 columns]"
      ]
     },
     "execution_count": 27,
     "metadata": {},
     "output_type": "execute_result"
    }
   ],
   "source": [
    "norm=data\n",
    "for i in range(50):\n",
    "    norm['feat'+str(i)]=unwgt['c_review'].apply(Sum,args=[List,i])\n",
    "norm.head(10)"
   ]
  },
  {
   "cell_type": "code",
   "execution_count": 28,
   "metadata": {},
   "outputs": [],
   "source": [
    "#drop cloumns review,c_sentiment,t_sentiment\n",
    "\n",
    "norm=norm.drop(['review','c_review'],axis=1)\n",
    "unwgt=unwgt.drop(['review','c_review'],axis=1)\n",
    "Y_norm=norm['t_sentiment']\n",
    "Y_unwgt=unwgt['t_sentiment']\n",
    "norm=norm.drop(['t_sentiment'],axis=1)\n",
    "unwgt=unwgt.drop(['t_sentiment'],axis=1)\n"
   ]
  },
  {
   "cell_type": "code",
   "execution_count": 29,
   "metadata": {},
   "outputs": [
    {
     "name": "stdout",
     "output_type": "stream",
     "text": [
      "Unweighted dataset\n"
     ]
    },
    {
     "data": {
      "text/html": [
       "<div>\n",
       "<style scoped>\n",
       "    .dataframe tbody tr th:only-of-type {\n",
       "        vertical-align: middle;\n",
       "    }\n",
       "\n",
       "    .dataframe tbody tr th {\n",
       "        vertical-align: top;\n",
       "    }\n",
       "\n",
       "    .dataframe thead th {\n",
       "        text-align: right;\n",
       "    }\n",
       "</style>\n",
       "<table border=\"1\" class=\"dataframe\">\n",
       "  <thead>\n",
       "    <tr style=\"text-align: right;\">\n",
       "      <th></th>\n",
       "      <th>feat0</th>\n",
       "      <th>feat1</th>\n",
       "      <th>feat2</th>\n",
       "      <th>feat3</th>\n",
       "      <th>feat4</th>\n",
       "      <th>feat5</th>\n",
       "      <th>feat6</th>\n",
       "      <th>feat7</th>\n",
       "      <th>feat8</th>\n",
       "      <th>feat9</th>\n",
       "      <th>...</th>\n",
       "      <th>feat40</th>\n",
       "      <th>feat41</th>\n",
       "      <th>feat42</th>\n",
       "      <th>feat43</th>\n",
       "      <th>feat44</th>\n",
       "      <th>feat45</th>\n",
       "      <th>feat46</th>\n",
       "      <th>feat47</th>\n",
       "      <th>feat48</th>\n",
       "      <th>feat49</th>\n",
       "    </tr>\n",
       "  </thead>\n",
       "  <tbody>\n",
       "    <tr>\n",
       "      <th>0</th>\n",
       "      <td>-0.083951</td>\n",
       "      <td>0.771993</td>\n",
       "      <td>0.531956</td>\n",
       "      <td>0.575461</td>\n",
       "      <td>0.240392</td>\n",
       "      <td>-0.055932</td>\n",
       "      <td>0.358363</td>\n",
       "      <td>-0.539073</td>\n",
       "      <td>-0.237162</td>\n",
       "      <td>-0.090333</td>\n",
       "      <td>...</td>\n",
       "      <td>0.606373</td>\n",
       "      <td>0.036736</td>\n",
       "      <td>-0.066507</td>\n",
       "      <td>-0.128526</td>\n",
       "      <td>-0.108547</td>\n",
       "      <td>0.273339</td>\n",
       "      <td>0.155330</td>\n",
       "      <td>-0.372063</td>\n",
       "      <td>0.255236</td>\n",
       "      <td>0.678991</td>\n",
       "    </tr>\n",
       "    <tr>\n",
       "      <th>1</th>\n",
       "      <td>-0.107213</td>\n",
       "      <td>0.599292</td>\n",
       "      <td>0.509455</td>\n",
       "      <td>0.522711</td>\n",
       "      <td>0.352843</td>\n",
       "      <td>0.100957</td>\n",
       "      <td>0.297768</td>\n",
       "      <td>-0.661147</td>\n",
       "      <td>-0.197990</td>\n",
       "      <td>0.003222</td>\n",
       "      <td>...</td>\n",
       "      <td>0.587365</td>\n",
       "      <td>0.091034</td>\n",
       "      <td>-0.254463</td>\n",
       "      <td>-0.013290</td>\n",
       "      <td>-0.082103</td>\n",
       "      <td>0.266721</td>\n",
       "      <td>0.176043</td>\n",
       "      <td>-0.219379</td>\n",
       "      <td>0.237330</td>\n",
       "      <td>0.757125</td>\n",
       "    </tr>\n",
       "    <tr>\n",
       "      <th>2</th>\n",
       "      <td>-0.149438</td>\n",
       "      <td>1.583101</td>\n",
       "      <td>1.237275</td>\n",
       "      <td>1.271239</td>\n",
       "      <td>0.782292</td>\n",
       "      <td>0.047547</td>\n",
       "      <td>0.630254</td>\n",
       "      <td>-1.571610</td>\n",
       "      <td>-0.529359</td>\n",
       "      <td>-0.109869</td>\n",
       "      <td>...</td>\n",
       "      <td>1.537276</td>\n",
       "      <td>0.135493</td>\n",
       "      <td>-0.440285</td>\n",
       "      <td>0.080533</td>\n",
       "      <td>-0.145458</td>\n",
       "      <td>0.599910</td>\n",
       "      <td>0.394347</td>\n",
       "      <td>-0.796688</td>\n",
       "      <td>0.700480</td>\n",
       "      <td>1.579673</td>\n",
       "    </tr>\n",
       "    <tr>\n",
       "      <th>3</th>\n",
       "      <td>-0.048592</td>\n",
       "      <td>0.317410</td>\n",
       "      <td>0.294384</td>\n",
       "      <td>0.271634</td>\n",
       "      <td>0.214501</td>\n",
       "      <td>-0.014636</td>\n",
       "      <td>0.157914</td>\n",
       "      <td>-0.326997</td>\n",
       "      <td>-0.140687</td>\n",
       "      <td>-0.008164</td>\n",
       "      <td>...</td>\n",
       "      <td>0.267867</td>\n",
       "      <td>-0.037108</td>\n",
       "      <td>-0.088366</td>\n",
       "      <td>0.010377</td>\n",
       "      <td>-0.043956</td>\n",
       "      <td>0.041859</td>\n",
       "      <td>0.085895</td>\n",
       "      <td>-0.141224</td>\n",
       "      <td>0.143993</td>\n",
       "      <td>0.290450</td>\n",
       "    </tr>\n",
       "    <tr>\n",
       "      <th>4</th>\n",
       "      <td>-0.028752</td>\n",
       "      <td>0.699131</td>\n",
       "      <td>0.605701</td>\n",
       "      <td>0.596852</td>\n",
       "      <td>0.230115</td>\n",
       "      <td>-0.003410</td>\n",
       "      <td>0.378506</td>\n",
       "      <td>-0.575283</td>\n",
       "      <td>-0.186741</td>\n",
       "      <td>-0.042045</td>\n",
       "      <td>...</td>\n",
       "      <td>0.718423</td>\n",
       "      <td>0.153447</td>\n",
       "      <td>-0.184031</td>\n",
       "      <td>-0.048951</td>\n",
       "      <td>-0.096967</td>\n",
       "      <td>0.338795</td>\n",
       "      <td>0.172520</td>\n",
       "      <td>-0.361117</td>\n",
       "      <td>0.239969</td>\n",
       "      <td>0.952878</td>\n",
       "    </tr>\n",
       "  </tbody>\n",
       "</table>\n",
       "<p>5 rows × 50 columns</p>\n",
       "</div>"
      ],
      "text/plain": [
       "      feat0     feat1     feat2     feat3     feat4     feat5     feat6  \\\n",
       "0 -0.083951  0.771993  0.531956  0.575461  0.240392 -0.055932  0.358363   \n",
       "1 -0.107213  0.599292  0.509455  0.522711  0.352843  0.100957  0.297768   \n",
       "2 -0.149438  1.583101  1.237275  1.271239  0.782292  0.047547  0.630254   \n",
       "3 -0.048592  0.317410  0.294384  0.271634  0.214501 -0.014636  0.157914   \n",
       "4 -0.028752  0.699131  0.605701  0.596852  0.230115 -0.003410  0.378506   \n",
       "\n",
       "      feat7     feat8     feat9  ...    feat40    feat41    feat42    feat43  \\\n",
       "0 -0.539073 -0.237162 -0.090333  ...  0.606373  0.036736 -0.066507 -0.128526   \n",
       "1 -0.661147 -0.197990  0.003222  ...  0.587365  0.091034 -0.254463 -0.013290   \n",
       "2 -1.571610 -0.529359 -0.109869  ...  1.537276  0.135493 -0.440285  0.080533   \n",
       "3 -0.326997 -0.140687 -0.008164  ...  0.267867 -0.037108 -0.088366  0.010377   \n",
       "4 -0.575283 -0.186741 -0.042045  ...  0.718423  0.153447 -0.184031 -0.048951   \n",
       "\n",
       "     feat44    feat45    feat46    feat47    feat48    feat49  \n",
       "0 -0.108547  0.273339  0.155330 -0.372063  0.255236  0.678991  \n",
       "1 -0.082103  0.266721  0.176043 -0.219379  0.237330  0.757125  \n",
       "2 -0.145458  0.599910  0.394347 -0.796688  0.700480  1.579673  \n",
       "3 -0.043956  0.041859  0.085895 -0.141224  0.143993  0.290450  \n",
       "4 -0.096967  0.338795  0.172520 -0.361117  0.239969  0.952878  \n",
       "\n",
       "[5 rows x 50 columns]"
      ]
     },
     "execution_count": 29,
     "metadata": {},
     "output_type": "execute_result"
    }
   ],
   "source": [
    "#after dropping the columns we left with,\n",
    "print(\"Unweighted dataset\")\n",
    "unwgt.head()"
   ]
  },
  {
   "cell_type": "code",
   "execution_count": 30,
   "metadata": {},
   "outputs": [
    {
     "name": "stdout",
     "output_type": "stream",
     "text": [
      "Normalised Dataset\n"
     ]
    },
    {
     "data": {
      "text/html": [
       "<div>\n",
       "<style scoped>\n",
       "    .dataframe tbody tr th:only-of-type {\n",
       "        vertical-align: middle;\n",
       "    }\n",
       "\n",
       "    .dataframe tbody tr th {\n",
       "        vertical-align: top;\n",
       "    }\n",
       "\n",
       "    .dataframe thead th {\n",
       "        text-align: right;\n",
       "    }\n",
       "</style>\n",
       "<table border=\"1\" class=\"dataframe\">\n",
       "  <thead>\n",
       "    <tr style=\"text-align: right;\">\n",
       "      <th></th>\n",
       "      <th>feat0</th>\n",
       "      <th>feat1</th>\n",
       "      <th>feat2</th>\n",
       "      <th>feat3</th>\n",
       "      <th>feat4</th>\n",
       "      <th>feat5</th>\n",
       "      <th>feat6</th>\n",
       "      <th>feat7</th>\n",
       "      <th>feat8</th>\n",
       "      <th>feat9</th>\n",
       "      <th>...</th>\n",
       "      <th>feat40</th>\n",
       "      <th>feat41</th>\n",
       "      <th>feat42</th>\n",
       "      <th>feat43</th>\n",
       "      <th>feat44</th>\n",
       "      <th>feat45</th>\n",
       "      <th>feat46</th>\n",
       "      <th>feat47</th>\n",
       "      <th>feat48</th>\n",
       "      <th>feat49</th>\n",
       "    </tr>\n",
       "  </thead>\n",
       "  <tbody>\n",
       "    <tr>\n",
       "      <th>0</th>\n",
       "      <td>-0.083951</td>\n",
       "      <td>0.771993</td>\n",
       "      <td>0.531956</td>\n",
       "      <td>0.575461</td>\n",
       "      <td>0.240392</td>\n",
       "      <td>-0.055932</td>\n",
       "      <td>0.358363</td>\n",
       "      <td>-0.539073</td>\n",
       "      <td>-0.237162</td>\n",
       "      <td>-0.090333</td>\n",
       "      <td>...</td>\n",
       "      <td>0.606373</td>\n",
       "      <td>0.036736</td>\n",
       "      <td>-0.066507</td>\n",
       "      <td>-0.128526</td>\n",
       "      <td>-0.108547</td>\n",
       "      <td>0.273339</td>\n",
       "      <td>0.155330</td>\n",
       "      <td>-0.372063</td>\n",
       "      <td>0.255236</td>\n",
       "      <td>0.678991</td>\n",
       "    </tr>\n",
       "    <tr>\n",
       "      <th>1</th>\n",
       "      <td>-0.107213</td>\n",
       "      <td>0.599292</td>\n",
       "      <td>0.509455</td>\n",
       "      <td>0.522711</td>\n",
       "      <td>0.352843</td>\n",
       "      <td>0.100957</td>\n",
       "      <td>0.297768</td>\n",
       "      <td>-0.661147</td>\n",
       "      <td>-0.197990</td>\n",
       "      <td>0.003222</td>\n",
       "      <td>...</td>\n",
       "      <td>0.587365</td>\n",
       "      <td>0.091034</td>\n",
       "      <td>-0.254463</td>\n",
       "      <td>-0.013290</td>\n",
       "      <td>-0.082103</td>\n",
       "      <td>0.266721</td>\n",
       "      <td>0.176043</td>\n",
       "      <td>-0.219379</td>\n",
       "      <td>0.237330</td>\n",
       "      <td>0.757125</td>\n",
       "    </tr>\n",
       "    <tr>\n",
       "      <th>2</th>\n",
       "      <td>-0.149438</td>\n",
       "      <td>1.583101</td>\n",
       "      <td>1.237275</td>\n",
       "      <td>1.271239</td>\n",
       "      <td>0.782292</td>\n",
       "      <td>0.047547</td>\n",
       "      <td>0.630254</td>\n",
       "      <td>-1.571610</td>\n",
       "      <td>-0.529359</td>\n",
       "      <td>-0.109869</td>\n",
       "      <td>...</td>\n",
       "      <td>1.537276</td>\n",
       "      <td>0.135493</td>\n",
       "      <td>-0.440285</td>\n",
       "      <td>0.080533</td>\n",
       "      <td>-0.145458</td>\n",
       "      <td>0.599910</td>\n",
       "      <td>0.394347</td>\n",
       "      <td>-0.796688</td>\n",
       "      <td>0.700480</td>\n",
       "      <td>1.579673</td>\n",
       "    </tr>\n",
       "    <tr>\n",
       "      <th>3</th>\n",
       "      <td>-0.048592</td>\n",
       "      <td>0.317410</td>\n",
       "      <td>0.294384</td>\n",
       "      <td>0.271634</td>\n",
       "      <td>0.214501</td>\n",
       "      <td>-0.014636</td>\n",
       "      <td>0.157914</td>\n",
       "      <td>-0.326997</td>\n",
       "      <td>-0.140687</td>\n",
       "      <td>-0.008164</td>\n",
       "      <td>...</td>\n",
       "      <td>0.267867</td>\n",
       "      <td>-0.037108</td>\n",
       "      <td>-0.088366</td>\n",
       "      <td>0.010377</td>\n",
       "      <td>-0.043956</td>\n",
       "      <td>0.041859</td>\n",
       "      <td>0.085895</td>\n",
       "      <td>-0.141224</td>\n",
       "      <td>0.143993</td>\n",
       "      <td>0.290450</td>\n",
       "    </tr>\n",
       "    <tr>\n",
       "      <th>4</th>\n",
       "      <td>-0.028752</td>\n",
       "      <td>0.699131</td>\n",
       "      <td>0.605701</td>\n",
       "      <td>0.596852</td>\n",
       "      <td>0.230115</td>\n",
       "      <td>-0.003410</td>\n",
       "      <td>0.378506</td>\n",
       "      <td>-0.575283</td>\n",
       "      <td>-0.186741</td>\n",
       "      <td>-0.042045</td>\n",
       "      <td>...</td>\n",
       "      <td>0.718423</td>\n",
       "      <td>0.153447</td>\n",
       "      <td>-0.184031</td>\n",
       "      <td>-0.048951</td>\n",
       "      <td>-0.096967</td>\n",
       "      <td>0.338795</td>\n",
       "      <td>0.172520</td>\n",
       "      <td>-0.361117</td>\n",
       "      <td>0.239969</td>\n",
       "      <td>0.952878</td>\n",
       "    </tr>\n",
       "  </tbody>\n",
       "</table>\n",
       "<p>5 rows × 50 columns</p>\n",
       "</div>"
      ],
      "text/plain": [
       "      feat0     feat1     feat2     feat3     feat4     feat5     feat6  \\\n",
       "0 -0.083951  0.771993  0.531956  0.575461  0.240392 -0.055932  0.358363   \n",
       "1 -0.107213  0.599292  0.509455  0.522711  0.352843  0.100957  0.297768   \n",
       "2 -0.149438  1.583101  1.237275  1.271239  0.782292  0.047547  0.630254   \n",
       "3 -0.048592  0.317410  0.294384  0.271634  0.214501 -0.014636  0.157914   \n",
       "4 -0.028752  0.699131  0.605701  0.596852  0.230115 -0.003410  0.378506   \n",
       "\n",
       "      feat7     feat8     feat9  ...    feat40    feat41    feat42    feat43  \\\n",
       "0 -0.539073 -0.237162 -0.090333  ...  0.606373  0.036736 -0.066507 -0.128526   \n",
       "1 -0.661147 -0.197990  0.003222  ...  0.587365  0.091034 -0.254463 -0.013290   \n",
       "2 -1.571610 -0.529359 -0.109869  ...  1.537276  0.135493 -0.440285  0.080533   \n",
       "3 -0.326997 -0.140687 -0.008164  ...  0.267867 -0.037108 -0.088366  0.010377   \n",
       "4 -0.575283 -0.186741 -0.042045  ...  0.718423  0.153447 -0.184031 -0.048951   \n",
       "\n",
       "     feat44    feat45    feat46    feat47    feat48    feat49  \n",
       "0 -0.108547  0.273339  0.155330 -0.372063  0.255236  0.678991  \n",
       "1 -0.082103  0.266721  0.176043 -0.219379  0.237330  0.757125  \n",
       "2 -0.145458  0.599910  0.394347 -0.796688  0.700480  1.579673  \n",
       "3 -0.043956  0.041859  0.085895 -0.141224  0.143993  0.290450  \n",
       "4 -0.096967  0.338795  0.172520 -0.361117  0.239969  0.952878  \n",
       "\n",
       "[5 rows x 50 columns]"
      ]
     },
     "execution_count": 30,
     "metadata": {},
     "output_type": "execute_result"
    }
   ],
   "source": [
    "print(\"Normalised Dataset\")\n",
    "norm.head()"
   ]
  },
  {
   "cell_type": "markdown",
   "metadata": {},
   "source": [
    "### Test Train Split"
   ]
  },
  {
   "cell_type": "markdown",
   "metadata": {},
   "source": [
    "- ### Unweight Data"
   ]
  },
  {
   "cell_type": "code",
   "execution_count": 105,
   "metadata": {},
   "outputs": [],
   "source": [
    "from sklearn.model_selection import train_test_split\n",
    "X_Train_unwgt,X_Test_unwgt,Y_Train_unwgt,Y_Test_unwgt=train_test_split(unwgt,Y_unwgt,test_size=0.2,\n",
    "                                                                                   random_state=0)\n"
   ]
  },
  {
   "cell_type": "markdown",
   "metadata": {},
   "source": [
    "- ### Normalised Data"
   ]
  },
  {
   "cell_type": "code",
   "execution_count": 106,
   "metadata": {},
   "outputs": [],
   "source": [
    "# Splittinng normalized data for training and testing\n",
    "X_Train_norm,X_Test_norm,Y_Train_norm,Y_Test_norm=train_test_split(norm,Y_norm,test_size=0.2,\n",
    "                                                                                   random_state=0)"
   ]
  },
  {
   "cell_type": "markdown",
   "metadata": {},
   "source": [
    "## Applying Different Classifiers"
   ]
  },
  {
   "cell_type": "markdown",
   "metadata": {},
   "source": [
    "## Naive Bayes(Unweigted Data)\n",
    "Naive Bayes is a simple technique for constructing classifiers: models that assign class labels to problem instances, represented as vectors of feature values, where the class labels are drawn from some finite set. There is not a single algorithm for training such classifiers, but a family of algorithms based on a common principle: all naive Bayes classifiers assume that the value of a particular feature is independent of the value of any other feature, given the class variable."
   ]
  },
  {
   "cell_type": "code",
   "execution_count": 107,
   "metadata": {},
   "outputs": [
    {
     "data": {
      "text/plain": [
       "GaussianNB(priors=None, var_smoothing=1e-09)"
      ]
     },
     "execution_count": 107,
     "metadata": {},
     "output_type": "execute_result"
    }
   ],
   "source": [
    "\n",
    "from sklearn.naive_bayes import GaussianNB\n",
    "Nb=GaussianNB()\n",
    "Nb.fit(X_Train_unwgt,Y_Train_unwgt)"
   ]
  },
  {
   "cell_type": "code",
   "execution_count": 108,
   "metadata": {},
   "outputs": [],
   "source": [
    "Pred1=Nb.predict(X_Test_unwgt)\n"
   ]
  },
  {
   "cell_type": "code",
   "execution_count": 109,
   "metadata": {},
   "outputs": [
    {
     "name": "stdout",
     "output_type": "stream",
     "text": [
      "Accuracy = 51.0 %\n",
      "f1-Score = 0.4 \n"
     ]
    }
   ],
   "source": [
    "from sklearn.metrics import accuracy_score , f1_score\n",
    "a1=(accuracy_score(Pred1,Y_Test_unwgt)*100)\n",
    "print(\"Accuracy = {:.1f} %\".format(accuracy_score(Pred1,Y_Test_unwgt)*100))\n",
    "f1=(f1_score(Y_Test_unwgt,Pred1))\n",
    "print(\"f1-Score = {:.1} \".format(f1_score(Y_Test_unwgt,Pred1)))\n"
   ]
  },
  {
   "cell_type": "markdown",
   "metadata": {},
   "source": [
    "## Logistic Regression\n",
    " Logistic regression is used to describe data and to explain the relationship between one dependent binary variable and one or more nominal, ordinal, interval or ratio-level independent variables.\n",
    " \n",
    " ### Unweighted Data"
   ]
  },
  {
   "cell_type": "code",
   "execution_count": 110,
   "metadata": {},
   "outputs": [
    {
     "name": "stderr",
     "output_type": "stream",
     "text": [
      "C:\\Users\\dell\\Anaconda3\\lib\\site-packages\\sklearn\\linear_model\\logistic.py:433: FutureWarning: Default solver will be changed to 'lbfgs' in 0.22. Specify a solver to silence this warning.\n",
      "  FutureWarning)\n"
     ]
    },
    {
     "data": {
      "text/plain": [
       "LogisticRegression(C=1.0, class_weight=None, dual=False, fit_intercept=True,\n",
       "          intercept_scaling=1, max_iter=100, multi_class='warn',\n",
       "          n_jobs=None, penalty='l2', random_state=None, solver='warn',\n",
       "          tol=0.0001, verbose=0, warm_start=False)"
      ]
     },
     "execution_count": 110,
     "metadata": {},
     "output_type": "execute_result"
    }
   ],
   "source": [
    "from sklearn.linear_model import LogisticRegression\n",
    "log=LogisticRegression()\n",
    "log.fit(X_Train_unwgt,Y_Train_unwgt)\n"
   ]
  },
  {
   "cell_type": "code",
   "execution_count": 111,
   "metadata": {},
   "outputs": [],
   "source": [
    "Pred2=log.predict(X_Test_unwgt)\n"
   ]
  },
  {
   "cell_type": "code",
   "execution_count": 112,
   "metadata": {},
   "outputs": [
    {
     "name": "stdout",
     "output_type": "stream",
     "text": [
      "Accuracy = 54.00 %\n",
      "f1-Score = 0.51 \n"
     ]
    }
   ],
   "source": [
    "from sklearn.metrics import accuracy_score , f1_score\n",
    "print(\"Accuracy = {:.2f} %\".format(accuracy_score(Pred2,Y_Test_unwgt)*100))\n",
    "a2=(accuracy_score(Pred2,Y_Test_unwgt)*100)\n",
    "print(\"f1-Score = {:.2f} \".format(f1_score(Pred2,Y_Test_unwgt)))\n",
    "f2=(f1_score(Pred2,Y_Test_unwgt))"
   ]
  },
  {
   "cell_type": "markdown",
   "metadata": {},
   "source": [
    "## SVM (Suppport Vector Machine)-Linear\n",
    "The objective of the support vector machine algorithm is to find a hyperplane in an N-dimensional space(N — the number of features) that distinctly classifies the data points.\n",
    "### Unweighted Data"
   ]
  },
  {
   "cell_type": "code",
   "execution_count": 113,
   "metadata": {},
   "outputs": [
    {
     "data": {
      "text/plain": [
       "SVC(C=1.0, cache_size=200, class_weight=None, coef0=0.0,\n",
       "  decision_function_shape='ovr', degree=3, gamma='auto_deprecated',\n",
       "  kernel='linear', max_iter=-1, probability=False, random_state=None,\n",
       "  shrinking=True, tol=0.001, verbose=False)"
      ]
     },
     "execution_count": 113,
     "metadata": {},
     "output_type": "execute_result"
    }
   ],
   "source": [
    "from sklearn.svm import SVC\n",
    "modell = SVC(kernel='linear')\n",
    "modell.fit(X_Train_unwgt,Y_Train_unwgt)"
   ]
  },
  {
   "cell_type": "code",
   "execution_count": 114,
   "metadata": {},
   "outputs": [],
   "source": [
    "Pred4 = modell.predict(X_Test_unwgt)"
   ]
  },
  {
   "cell_type": "code",
   "execution_count": 115,
   "metadata": {},
   "outputs": [
    {
     "name": "stdout",
     "output_type": "stream",
     "text": [
      "Accuracy = 49.50 %\n",
      "f1-Score = 0.37 \n"
     ]
    }
   ],
   "source": [
    "from sklearn.metrics import accuracy_score , f1_score\n",
    "print(\"Accuracy = {:.2f} %\".format(accuracy_score(Pred4,Y_Test_unwgt)*100))\n",
    "a3=(accuracy_score(Pred4,Y_Test_unwgt)*100)\n",
    "print(\"f1-Score = {:.2f} \".format(f1_score(Pred4,Y_Test_unwgt)))\n",
    "f3=(f1_score(Pred4,Y_Test_unwgt))"
   ]
  },
  {
   "cell_type": "markdown",
   "metadata": {},
   "source": [
    "## SVM (Suppport Vector Machine)-rbf"
   ]
  },
  {
   "cell_type": "code",
   "execution_count": 116,
   "metadata": {},
   "outputs": [
    {
     "name": "stderr",
     "output_type": "stream",
     "text": [
      "C:\\Users\\dell\\Anaconda3\\lib\\site-packages\\sklearn\\svm\\base.py:196: FutureWarning: The default value of gamma will change from 'auto' to 'scale' in version 0.22 to account better for unscaled features. Set gamma explicitly to 'auto' or 'scale' to avoid this warning.\n",
      "  \"avoid this warning.\", FutureWarning)\n"
     ]
    },
    {
     "data": {
      "text/plain": [
       "SVC(C=1.0, cache_size=200, class_weight=None, coef0=0.0,\n",
       "  decision_function_shape='ovr', degree=3, gamma='auto_deprecated',\n",
       "  kernel='rbf', max_iter=-1, probability=False, random_state=None,\n",
       "  shrinking=True, tol=0.001, verbose=False)"
      ]
     },
     "execution_count": 116,
     "metadata": {},
     "output_type": "execute_result"
    }
   ],
   "source": [
    "modelr = SVC(kernel='rbf')\n",
    "modelr.fit(X_Train_unwgt,Y_Train_unwgt)"
   ]
  },
  {
   "cell_type": "code",
   "execution_count": 117,
   "metadata": {},
   "outputs": [],
   "source": [
    "Pred5=modelr.predict(X_Test_unwgt)"
   ]
  },
  {
   "cell_type": "code",
   "execution_count": 118,
   "metadata": {},
   "outputs": [
    {
     "name": "stdout",
     "output_type": "stream",
     "text": [
      "Accuracy = 51.00 %\n",
      "f1-Score = 0.39 \n"
     ]
    }
   ],
   "source": [
    "from sklearn.metrics import accuracy_score , f1_score\n",
    "print(\"Accuracy = {:.2f} %\".format(accuracy_score(Pred5,Y_Test_unwgt)*100))\n",
    "a4=(accuracy_score(Pred5,Y_Test_unwgt)*100)\n",
    "print(\"f1-Score = {:.2f} \".format(f1_score(Pred5,Y_Test_unwgt)))\n",
    "f4=(f1_score(Pred5,Y_Test_unwgt))"
   ]
  },
  {
   "cell_type": "markdown",
   "metadata": {},
   "source": [
    "## Random Forest Classifier\n",
    "Random forest builds multiple decision trees and merges them together to get a more accurate and stable prediction.\n",
    "### Unweighted Data"
   ]
  },
  {
   "cell_type": "code",
   "execution_count": 119,
   "metadata": {},
   "outputs": [
    {
     "name": "stderr",
     "output_type": "stream",
     "text": [
      "C:\\Users\\dell\\Anaconda3\\lib\\site-packages\\sklearn\\ensemble\\forest.py:246: FutureWarning: The default value of n_estimators will change from 10 in version 0.20 to 100 in 0.22.\n",
      "  \"10 in version 0.20 to 100 in 0.22.\", FutureWarning)\n"
     ]
    },
    {
     "data": {
      "text/plain": [
       "RandomForestClassifier(bootstrap=True, class_weight=None, criterion='gini',\n",
       "            max_depth=None, max_features='auto', max_leaf_nodes=None,\n",
       "            min_impurity_decrease=0.0, min_impurity_split=None,\n",
       "            min_samples_leaf=1, min_samples_split=2,\n",
       "            min_weight_fraction_leaf=0.0, n_estimators=10, n_jobs=None,\n",
       "            oob_score=False, random_state=None, verbose=0,\n",
       "            warm_start=False)"
      ]
     },
     "execution_count": 119,
     "metadata": {},
     "output_type": "execute_result"
    }
   ],
   "source": [
    "from sklearn.ensemble import RandomForestClassifier\n",
    "rf=RandomForestClassifier()\n",
    "rf.fit(X_Train_unwgt,Y_Train_unwgt)\n"
   ]
  },
  {
   "cell_type": "code",
   "execution_count": 120,
   "metadata": {},
   "outputs": [],
   "source": [
    "Pred6=rf.predict(X_Test_unwgt)"
   ]
  },
  {
   "cell_type": "code",
   "execution_count": 121,
   "metadata": {},
   "outputs": [
    {
     "name": "stdout",
     "output_type": "stream",
     "text": [
      "Accuracy = 46.00 %\n",
      "f1-Score = 0.42 \n"
     ]
    }
   ],
   "source": [
    "from sklearn.metrics import accuracy_score , f1_score\n",
    "print(\"Accuracy = {:.2f} %\".format(accuracy_score(Pred6,Y_Test_unwgt)*100))\n",
    "a5=(accuracy_score(Pred6,Y_Test_unwgt)*100)\n",
    "print(\"f1-Score = {:.2f} \".format(f1_score(Pred6,Y_Test_unwgt)))\n",
    "f5=(f1_score(Pred6,Y_Test_unwgt))"
   ]
  },
  {
   "cell_type": "markdown",
   "metadata": {},
   "source": [
    "#### now applying on normalised data\n",
    "### NAIVE BAYES"
   ]
  },
  {
   "cell_type": "code",
   "execution_count": 122,
   "metadata": {},
   "outputs": [
    {
     "data": {
      "text/plain": [
       "GaussianNB(priors=None, var_smoothing=1e-09)"
      ]
     },
     "execution_count": 122,
     "metadata": {},
     "output_type": "execute_result"
    }
   ],
   "source": [
    "from sklearn.naive_bayes import GaussianNB\n",
    "Nb1=GaussianNB()\n",
    "Nb1.fit(X_Train_norm,Y_Train_norm)"
   ]
  },
  {
   "cell_type": "code",
   "execution_count": 123,
   "metadata": {},
   "outputs": [],
   "source": [
    "Pred7=Nb1.predict(X_Test_norm)"
   ]
  },
  {
   "cell_type": "code",
   "execution_count": 124,
   "metadata": {},
   "outputs": [
    {
     "name": "stdout",
     "output_type": "stream",
     "text": [
      "Accuracy = 51.00 %\n",
      "f1-Score = 0.39 \n"
     ]
    }
   ],
   "source": [
    "from sklearn.metrics import accuracy_score , f1_score\n",
    "print(\"Accuracy = {:.2f} %\".format(accuracy_score(Pred7,Y_Test_norm)*100))\n",
    "a_1=(accuracy_score(Pred7,Y_Test_norm)*100)\n",
    "print(\"f1-Score = {:.2f} \".format(f1_score(Pred7,Y_Test_norm)))\n",
    "f_1=(f1_score(Pred7,Y_Test_norm))"
   ]
  },
  {
   "cell_type": "markdown",
   "metadata": {},
   "source": [
    "### Logistic Regression"
   ]
  },
  {
   "cell_type": "code",
   "execution_count": 125,
   "metadata": {},
   "outputs": [
    {
     "name": "stderr",
     "output_type": "stream",
     "text": [
      "C:\\Users\\dell\\Anaconda3\\lib\\site-packages\\sklearn\\linear_model\\logistic.py:433: FutureWarning: Default solver will be changed to 'lbfgs' in 0.22. Specify a solver to silence this warning.\n",
      "  FutureWarning)\n"
     ]
    },
    {
     "data": {
      "text/plain": [
       "LogisticRegression(C=1.0, class_weight=None, dual=False, fit_intercept=True,\n",
       "          intercept_scaling=1, max_iter=100, multi_class='warn',\n",
       "          n_jobs=None, penalty='l2', random_state=None, solver='warn',\n",
       "          tol=0.0001, verbose=0, warm_start=False)"
      ]
     },
     "execution_count": 125,
     "metadata": {},
     "output_type": "execute_result"
    }
   ],
   "source": [
    "from sklearn.linear_model import LogisticRegression\n",
    "lr1=LogisticRegression()\n",
    "lr1.fit(X_Train_norm,Y_Train_norm)\n"
   ]
  },
  {
   "cell_type": "code",
   "execution_count": 126,
   "metadata": {},
   "outputs": [],
   "source": [
    "Pred8=lr1.predict(X_Test_norm)\n"
   ]
  },
  {
   "cell_type": "code",
   "execution_count": 127,
   "metadata": {},
   "outputs": [
    {
     "name": "stdout",
     "output_type": "stream",
     "text": [
      "Accuracy = 54.00 %\n",
      "f1-Score = 0.51 \n"
     ]
    }
   ],
   "source": [
    "from sklearn.metrics import accuracy_score , f1_score\n",
    "print(\"Accuracy = {:.2f} %\".format(accuracy_score(Pred8,Y_Test_norm)*100))\n",
    "a_2=(accuracy_score(Pred8,Y_Test_norm)*100)\n",
    "print(\"f1-Score = {:.2f} \".format(f1_score(Pred8,Y_Test_norm)))\n",
    "f_2=(f1_score(Pred8,Y_Test_norm))"
   ]
  },
  {
   "cell_type": "markdown",
   "metadata": {},
   "source": [
    "### SVM (Suppport Vector Machine)-Linear"
   ]
  },
  {
   "cell_type": "code",
   "execution_count": 128,
   "metadata": {},
   "outputs": [
    {
     "data": {
      "text/plain": [
       "SVC(C=1.0, cache_size=200, class_weight=None, coef0=0.0,\n",
       "  decision_function_shape='ovr', degree=3, gamma='auto_deprecated',\n",
       "  kernel='linear', max_iter=-1, probability=False, random_state=None,\n",
       "  shrinking=True, tol=0.001, verbose=False)"
      ]
     },
     "execution_count": 128,
     "metadata": {},
     "output_type": "execute_result"
    }
   ],
   "source": [
    "from sklearn.svm import SVC\n",
    "svl = SVC(kernel='linear')\n",
    "svl.fit(X_Train_norm,Y_Train_norm)"
   ]
  },
  {
   "cell_type": "code",
   "execution_count": 129,
   "metadata": {},
   "outputs": [],
   "source": [
    "Pred9=svl.predict(X_Test_norm)"
   ]
  },
  {
   "cell_type": "code",
   "execution_count": 130,
   "metadata": {},
   "outputs": [
    {
     "name": "stdout",
     "output_type": "stream",
     "text": [
      "Accuracy = 49.50 %\n",
      "f1-Score = 0.37 \n"
     ]
    }
   ],
   "source": [
    "from sklearn.metrics import accuracy_score , f1_score\n",
    "print(\"Accuracy = {:.2f} %\".format(accuracy_score(Pred9,Y_Test_norm)*100))\n",
    "a_3=(accuracy_score(Pred9,Y_Test_norm)*100)\n",
    "print(\"f1-Score = {:.2f} \".format(f1_score(Pred9,Y_Test_norm)))\n",
    "f_3=(f1_score(Pred9,Y_Test_norm))"
   ]
  },
  {
   "cell_type": "markdown",
   "metadata": {},
   "source": [
    "### SVM (Suppport Vector Machine)-rbf"
   ]
  },
  {
   "cell_type": "code",
   "execution_count": 131,
   "metadata": {},
   "outputs": [
    {
     "name": "stderr",
     "output_type": "stream",
     "text": [
      "C:\\Users\\dell\\Anaconda3\\lib\\site-packages\\sklearn\\svm\\base.py:196: FutureWarning: The default value of gamma will change from 'auto' to 'scale' in version 0.22 to account better for unscaled features. Set gamma explicitly to 'auto' or 'scale' to avoid this warning.\n",
      "  \"avoid this warning.\", FutureWarning)\n"
     ]
    },
    {
     "data": {
      "text/plain": [
       "SVC(C=1.0, cache_size=200, class_weight=None, coef0=0.0,\n",
       "  decision_function_shape='ovr', degree=3, gamma='auto_deprecated',\n",
       "  kernel='rbf', max_iter=-1, probability=False, random_state=None,\n",
       "  shrinking=True, tol=0.001, verbose=False)"
      ]
     },
     "execution_count": 131,
     "metadata": {},
     "output_type": "execute_result"
    }
   ],
   "source": [
    "svr = SVC(kernel='rbf')\n",
    "svr.fit(X_Train_norm,Y_Train_norm)"
   ]
  },
  {
   "cell_type": "code",
   "execution_count": 132,
   "metadata": {},
   "outputs": [],
   "source": [
    "Pred10=svr.predict(X_Test_norm)"
   ]
  },
  {
   "cell_type": "code",
   "execution_count": 133,
   "metadata": {},
   "outputs": [
    {
     "name": "stdout",
     "output_type": "stream",
     "text": [
      "Accuracy = 51.00 %\n",
      "f1-Score = 0.39 \n"
     ]
    }
   ],
   "source": [
    "from sklearn.metrics import accuracy_score , f1_score\n",
    "\n",
    "print(\"Accuracy = {:.2f} %\".format(accuracy_score(Pred10,Y_Test_norm)*100))\n",
    "a_4=(accuracy_score(Pred10,Y_Test_norm)*100)\n",
    "print(\"f1-Score = {:.2f} \".format(f1_score(Pred10,Y_Test_norm)))\n",
    "f_4=(f1_score(Pred10,Y_Test_norm))"
   ]
  },
  {
   "cell_type": "markdown",
   "metadata": {},
   "source": [
    "### Random Forest Classifier"
   ]
  },
  {
   "cell_type": "code",
   "execution_count": 100,
   "metadata": {},
   "outputs": [
    {
     "name": "stderr",
     "output_type": "stream",
     "text": [
      "C:\\Users\\dell\\Anaconda3\\lib\\site-packages\\sklearn\\ensemble\\forest.py:246: FutureWarning: The default value of n_estimators will change from 10 in version 0.20 to 100 in 0.22.\n",
      "  \"10 in version 0.20 to 100 in 0.22.\", FutureWarning)\n"
     ]
    },
    {
     "data": {
      "text/plain": [
       "RandomForestClassifier(bootstrap=True, class_weight=None, criterion='gini',\n",
       "            max_depth=None, max_features='auto', max_leaf_nodes=None,\n",
       "            min_impurity_decrease=0.0, min_impurity_split=None,\n",
       "            min_samples_leaf=1, min_samples_split=2,\n",
       "            min_weight_fraction_leaf=0.0, n_estimators=10, n_jobs=None,\n",
       "            oob_score=False, random_state=None, verbose=0,\n",
       "            warm_start=False)"
      ]
     },
     "execution_count": 100,
     "metadata": {},
     "output_type": "execute_result"
    }
   ],
   "source": [
    "from sklearn.ensemble import RandomForestClassifier\n",
    "rf1=RandomForestClassifier()\n",
    "rf1.fit(X_Train_norm,Y_Train_norm)\n"
   ]
  },
  {
   "cell_type": "code",
   "execution_count": 101,
   "metadata": {},
   "outputs": [],
   "source": [
    "Pred11=rf1.predict(X_Test_norm)"
   ]
  },
  {
   "cell_type": "code",
   "execution_count": 102,
   "metadata": {},
   "outputs": [
    {
     "name": "stdout",
     "output_type": "stream",
     "text": [
      "Accuracy = 53.50 %\n",
      "f1-Score = 0.55 \n"
     ]
    }
   ],
   "source": [
    "from sklearn.metrics import accuracy_score , f1_score\n",
    "print(\"Accuracy = {:.2f} %\".format(accuracy_score(Pred11,Y_Test_unwgt)*100))\n",
    "a_5=(accuracy_score(Pred11,Y_Test_unwgt)*100)\n",
    "print(\"f1-Score = {:.2f} \".format(f1_score(Pred11,Y_Test_norm)))\n",
    "f_5=(f1_score(Pred11,Y_Test_norm))"
   ]
  },
  {
   "cell_type": "markdown",
   "metadata": {},
   "source": [
    "## Comparing Accuracy and f-score of all models"
   ]
  },
  {
   "cell_type": "code",
   "execution_count": 103,
   "metadata": {},
   "outputs": [
    {
     "name": "stdout",
     "output_type": "stream",
     "text": [
      "Unweighted dataset\n"
     ]
    },
    {
     "data": {
      "text/html": [
       "<div>\n",
       "<style scoped>\n",
       "    .dataframe tbody tr th:only-of-type {\n",
       "        vertical-align: middle;\n",
       "    }\n",
       "\n",
       "    .dataframe tbody tr th {\n",
       "        vertical-align: top;\n",
       "    }\n",
       "\n",
       "    .dataframe thead th {\n",
       "        text-align: right;\n",
       "    }\n",
       "</style>\n",
       "<table border=\"1\" class=\"dataframe\">\n",
       "  <thead>\n",
       "    <tr style=\"text-align: right;\">\n",
       "      <th></th>\n",
       "      <th>Algorithm</th>\n",
       "      <th>F1score</th>\n",
       "      <th>accuracy</th>\n",
       "    </tr>\n",
       "  </thead>\n",
       "  <tbody>\n",
       "    <tr>\n",
       "      <th>0</th>\n",
       "      <td>Naive Bayes</td>\n",
       "      <td>0.306667</td>\n",
       "      <td>48.0</td>\n",
       "    </tr>\n",
       "    <tr>\n",
       "      <th>1</th>\n",
       "      <td>Logistic Regression</td>\n",
       "      <td>0.462428</td>\n",
       "      <td>53.5</td>\n",
       "    </tr>\n",
       "    <tr>\n",
       "      <th>2</th>\n",
       "      <td>SVM linear</td>\n",
       "      <td>0.364865</td>\n",
       "      <td>53.0</td>\n",
       "    </tr>\n",
       "    <tr>\n",
       "      <th>3</th>\n",
       "      <td>SVM rbf</td>\n",
       "      <td>0.348387</td>\n",
       "      <td>49.5</td>\n",
       "    </tr>\n",
       "    <tr>\n",
       "      <th>4</th>\n",
       "      <td>Random Forest</td>\n",
       "      <td>0.529101</td>\n",
       "      <td>55.5</td>\n",
       "    </tr>\n",
       "  </tbody>\n",
       "</table>\n",
       "</div>"
      ],
      "text/plain": [
       "             Algorithm   F1score  accuracy\n",
       "0          Naive Bayes  0.306667      48.0\n",
       "1  Logistic Regression  0.462428      53.5\n",
       "2           SVM linear  0.364865      53.0\n",
       "3              SVM rbf  0.348387      49.5\n",
       "4        Random Forest  0.529101      55.5"
      ]
     },
     "execution_count": 103,
     "metadata": {},
     "output_type": "execute_result"
    }
   ],
   "source": [
    "#for unweighted dataset\n",
    "accuracy=[a1,a2,a3,a4,a5]\n",
    "\n",
    "F1score = [f1,f2,f3,f4,f5]\n",
    "print(\"Unweighted dataset\")\n",
    "d = {\n",
    "        'Algorithm' : ['Naive Bayes','Logistic Regression','SVM linear','SVM rbf',\n",
    "                       'Random Forest'],\n",
    "        'F1score' : F1score,\n",
    "         'accuracy' :accuracy,\n",
    "       }\n",
    "\n",
    "unwgt_df =pd.DataFrame(d)\n",
    "unwgt_df"
   ]
  },
  {
   "cell_type": "code",
   "execution_count": 67,
   "metadata": {},
   "outputs": [
    {
     "data": {
      "text/plain": [
       "<matplotlib.axes._subplots.AxesSubplot at 0x22ccb977cc0>"
      ]
     },
     "execution_count": 67,
     "metadata": {},
     "output_type": "execute_result"
    },
    {
     "data": {
      "image/png": "[encoded data removed]",
      "text/plain": [
       "<Figure size 432x288 with 1 Axes>"
      ]
     },
     "metadata": {
      "needs_background": "light"
     },
     "output_type": "display_data"
    }
   ],
   "source": [
    "sns.barplot(x =unwgt_df.Algorithm , y = unwgt_df.accuracy)"
   ]
  },
  {
   "cell_type": "code",
   "execution_count": 104,
   "metadata": {},
   "outputs": [
    {
     "name": "stdout",
     "output_type": "stream",
     "text": [
      "Normalised dataset\n"
     ]
    },
    {
     "data": {
      "text/html": [
       "<div>\n",
       "<style scoped>\n",
       "    .dataframe tbody tr th:only-of-type {\n",
       "        vertical-align: middle;\n",
       "    }\n",
       "\n",
       "    .dataframe tbody tr th {\n",
       "        vertical-align: top;\n",
       "    }\n",
       "\n",
       "    .dataframe thead th {\n",
       "        text-align: right;\n",
       "    }\n",
       "</style>\n",
       "<table border=\"1\" class=\"dataframe\">\n",
       "  <thead>\n",
       "    <tr style=\"text-align: right;\">\n",
       "      <th></th>\n",
       "      <th>Algorithm</th>\n",
       "      <th>F1score</th>\n",
       "      <th>accuracy</th>\n",
       "    </tr>\n",
       "  </thead>\n",
       "  <tbody>\n",
       "    <tr>\n",
       "      <th>0</th>\n",
       "      <td>Naive Bayes</td>\n",
       "      <td>0.306667</td>\n",
       "      <td>48.0</td>\n",
       "    </tr>\n",
       "    <tr>\n",
       "      <th>1</th>\n",
       "      <td>Logistic Regression</td>\n",
       "      <td>0.462428</td>\n",
       "      <td>53.5</td>\n",
       "    </tr>\n",
       "    <tr>\n",
       "      <th>2</th>\n",
       "      <td>SVM linear</td>\n",
       "      <td>0.364865</td>\n",
       "      <td>53.0</td>\n",
       "    </tr>\n",
       "    <tr>\n",
       "      <th>3</th>\n",
       "      <td>SVM rbf</td>\n",
       "      <td>0.348387</td>\n",
       "      <td>49.5</td>\n",
       "    </tr>\n",
       "    <tr>\n",
       "      <th>4</th>\n",
       "      <td>Random Forest</td>\n",
       "      <td>0.529101</td>\n",
       "      <td>53.5</td>\n",
       "    </tr>\n",
       "  </tbody>\n",
       "</table>\n",
       "</div>"
      ],
      "text/plain": [
       "             Algorithm   F1score  accuracy\n",
       "0          Naive Bayes  0.306667      48.0\n",
       "1  Logistic Regression  0.462428      53.5\n",
       "2           SVM linear  0.364865      53.0\n",
       "3              SVM rbf  0.348387      49.5\n",
       "4        Random Forest  0.529101      53.5"
      ]
     },
     "execution_count": 104,
     "metadata": {},
     "output_type": "execute_result"
    }
   ],
   "source": [
    "#for normalized dataset\n",
    "n_accuracy=[a_1,a_2,a_3,a_4,a_5]\n",
    "\n",
    "F1_score = [f_1,f_2,f_3,f_4,f_5]\n",
    "print(\"Normalised dataset\")\n",
    "d_2 = {\n",
    "        'Algorithm' : ['Naive Bayes','Logistic Regression','SVM linear','SVM rbf',\n",
    "                       'Random Forest'],\n",
    "        'F1score' : F1score,\n",
    "         'accuracy' :n_accuracy,\n",
    "       }\n",
    "\n",
    "norm_df =pd.DataFrame(d_2)\n",
    "norm_df"
   ]
  },
  {
   "cell_type": "code",
   "execution_count": 70,
   "metadata": {},
   "outputs": [
    {
     "data": {
      "text/plain": [
       "<matplotlib.axes._subplots.AxesSubplot at 0x22ccb9d6f60>"
      ]
     },
     "execution_count": 70,
     "metadata": {},
     "output_type": "execute_result"
    },
    {
     "data": {
      "image/png": "[encoded data removed]",
      "text/plain": [
       "<Figure size 432x288 with 1 Axes>"
      ]
     },
     "metadata": {
      "needs_background": "light"
     },
     "output_type": "display_data"
    }
   ],
   "source": [
    "sns.barplot(x =norm_df.Algorithm , y = norm_df.accuracy)"
   ]
  },
  {
   "cell_type": "markdown",
   "metadata": {},
   "source": [
    "## CONCLUSION :\n",
    "Best Accuracy is obtained by Logiistic Regression Algorithm in Unweighted and Normalised Dataset."
   ]
  }
 ],
 "metadata": {
  "colab": {
   "collapsed_sections": [],
   "name": "movie-review-classifier.ipynb",
   "provenance": [],
   "toc_visible": true,
   "version": "0.3.2"
  },
  "kernelspec": {
   "display_name": "Python 3",
   "language": "python",
   "name": "python3"
  },
  "language_info": {
   "codemirror_mode": {
    "name": "ipython",
    "version": 3
   },
   "file_extension": ".py",
   "mimetype": "text/x-python",
   "name": "python",
   "nbconvert_exporter": "python",
   "pygments_lexer": "ipython3",
   "version": "3.6.8"
  }
 },
 "nbformat": 4,
 "nbformat_minor": 1
}
